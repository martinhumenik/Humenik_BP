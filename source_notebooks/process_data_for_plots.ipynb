{
 "cells": [
  {
   "cell_type": "code",
   "execution_count": 1,
   "id": "ce449a5b-1bd0-4280-9fa5-02dbac87e6a4",
   "metadata": {
    "pycharm": {
     "name": "#%%\n"
    }
   },
   "outputs": [],
   "source": [
    "# VYTVORENIE CSV SUBOROV S PREDIKOVANYMI A SKUTOCNYMI HODNOTAMI PARAMETROV \n",
    "# PRE SPATNE VYKRESLENIE KRIVIEK SYSTEMOM ELISA"
   ]
  },
  {
   "cell_type": "code",
   "execution_count": 2,
   "id": "43372f5e-8780-40e7-821c-97c3f2ddc500",
   "metadata": {
    "pycharm": {
     "name": "#%%\n"
    }
   },
   "outputs": [
    {
     "name": "stderr",
     "output_type": "stream",
     "text": [
      "2023-05-09 15:05:58.456635: I tensorflow/core/platform/cpu_feature_guard.cc:193] This TensorFlow binary is optimized with oneAPI Deep Neural Network Library (oneDNN) to use the following CPU instructions in performance-critical operations:  SSE4.1 SSE4.2 AVX AVX2 FMA\n",
      "To enable them in other operations, rebuild TensorFlow with the appropriate compiler flags.\n"
     ]
    }
   ],
   "source": [
    "# BLOK 1\n",
    "# Nacitanie kniznic\n",
    "\n",
    "import numpy as np\n",
    "import pandas as pd\n",
    "import pickle\n",
    "import math\n",
    "from ast import literal_eval"
   ]
  },
  {
   "cell_type": "code",
   "execution_count": 3,
   "id": "4923435f-1a7d-4230-830c-a39bfd4267d8",
   "metadata": {
    "pycharm": {
     "name": "#%%\n"
    }
   },
   "outputs": [],
   "source": [
    "# funkcia pre vytvorenie dat na plotovanie\n",
    "\n",
    "def make_prediction_observed(df, name_of_df, regr_method_folder, model):\n",
    "    df = df.copy()\n",
    "    # vytvorenie pola kriviek\n",
    "    X_o = []\n",
    "    for row in df[\"Curve\"]:\n",
    "        processed_data=literal_eval(row)\n",
    "        X_o.append(processed_data)\n",
    "    X_o=np.array(X_o, dtype=np.float32)\n",
    "\n",
    "    # predikcia\n",
    "    y_pred = model.predict(X_o)\n",
    "    \n",
    "    # vytvorenie df\n",
    "    denorm_df = pd.DataFrame(y_pred, columns = [\n",
    "                        \"pred_t2/t1\",\n",
    "                        \"pred_inc\",\n",
    "                        \"pred_q\",\n",
    "                        \"pred_omega1\",\n",
    "                        \"pred_omega2\"\n",
    "                        ])\n",
    "    df[\"pred_inc\"] = denorm_df[\"pred_inc\"].values\n",
    "    df[\"pred_q\"] = denorm_df[\"pred_q\"].values\n",
    "    df[\"pred_omega1\"] = denorm_df[\"pred_omega1\"].values\n",
    "    df[\"pred_omega2\"] = denorm_df[\"pred_omega2\"].values\n",
    "    df[\"pred_t2_t1\"] = denorm_df[\"pred_t2/t1\"].values\n",
    "    df.to_csv(f'data_to_plot/{regr_method_folder}/{name_of_df}.csv')"
   ]
  },
  {
   "cell_type": "code",
   "execution_count": 4,
   "id": "f06694a9-a464-4dc0-88e8-b0ca2df4822b",
   "metadata": {
    "pycharm": {
     "name": "#%%\n"
    }
   },
   "outputs": [],
   "source": [
    "# BLOK 2\n",
    "# Nacitanie a spracovanie observacnych dat\n",
    "\n",
    "obs=pd.read_csv(\"observed.csv\")\n",
    "obs[\"T2/T1\"]=obs[\"T2\"]/obs[\"T1\"]\n",
    "obs[\"Inc\"]=(obs[\"Inc\"]*math.pi)/180.0\n",
    "\n",
    "obs=obs[[\"T2/T1\", \"Inc\", \"Q\", \"Omega1\", \"Omega2\", \"Curve\", \"Type\", \"Name\", \"Filter\", \"Spot\"]]\n",
    "obs_det = obs.loc[obs.Type.isin([\"detached\", \"detected\"])]\n",
    "obs_ove = obs.loc[obs.Type.isin([\"overcontact\"])]\n",
    "obs = obs.reset_index()"
   ]
  },
  {
   "cell_type": "code",
   "execution_count": 5,
   "id": "3cb80466-564a-4d06-888e-2039840d2a9e",
   "metadata": {
    "pycharm": {
     "name": "#%%\n"
    }
   },
   "outputs": [],
   "source": [
    "# BLOK 3\n",
    "# Rozdelenie obs. dat do skupin podla filtra\n",
    "\n",
    "data_to_predict_det = obs_det[[\"Name\", \"Curve\", \"Filter\", \"Inc\", \"Q\", \"Omega1\", \"Omega2\", \"T2/T1\"]]\n",
    "data_to_predict_ove = obs_ove[[\"Name\", \"Curve\", \"Filter\", \"Inc\", \"Q\", \"Omega1\", \"Omega2\", \"T2/T1\"]]\n",
    "\n",
    "det_data_Bessell_V = data_to_predict_det[data_to_predict_det[\"Filter\"] == \"V\"]\n",
    "det_data_Bessell_I = data_to_predict_det[data_to_predict_det[\"Filter\"] == \"I\"]\n",
    "det_data_Bessell_R = data_to_predict_det[data_to_predict_det[\"Filter\"] == \"R\"]\n",
    "det_data_Bessell_B = data_to_predict_det[data_to_predict_det[\"Filter\"] == \"B\"]\n",
    "\n",
    "ove_data_Bessell_V = data_to_predict_ove[data_to_predict_ove[\"Filter\"] == \"V\"]\n",
    "ove_data_Bessell_I = data_to_predict_ove[data_to_predict_ove[\"Filter\"] == \"I\"]\n",
    "ove_data_Bessell_R = data_to_predict_ove[data_to_predict_ove[\"Filter\"] == \"R\"]\n",
    "ove_data_Bessell_B = data_to_predict_ove[data_to_predict_ove[\"Filter\"] == \"B\"]"
   ]
  },
  {
   "cell_type": "code",
   "execution_count": 6,
   "id": "1fe4cb39-3c76-4267-ba36-541f97d25918",
   "metadata": {
    "pycharm": {
     "name": "#%%\n"
    }
   },
   "outputs": [],
   "source": [
    "# BLOK 4\n",
    "# nacitanie a predikcia parametrov observacnych systemov metodou Knn"
   ]
  },
  {
   "cell_type": "code",
   "execution_count": 5,
   "id": "856bfc7a-2fdc-45e6-9315-55e2d774c2f8",
   "metadata": {
    "pycharm": {
     "name": "#%%\n"
    }
   },
   "outputs": [],
   "source": [
    "# nacitanie Knn modelov\n",
    "\n",
    "model_obs_det = pickle.load(open(\"models/knn_detached_noise_model.pkl\", 'rb'))\n",
    "model_obs_ove = pickle.load(open(\"models/knn_overcontact_noise_model.pkl\", 'rb'))"
   ]
  },
  {
   "cell_type": "code",
   "execution_count": 7,
   "id": "b6347e78-ff48-456c-98d2-75c38484373e",
   "metadata": {
    "pycharm": {
     "name": "#%%\n"
    }
   },
   "outputs": [],
   "source": [
    "# Predikcia parametrov observacnych systemov metodou Knn pre kazdy filter zvlast. \n",
    "# Vytvorenie suboru .csv so skutocnymi a predikovanymi hodnotami pre kazdy filter zvlast\n",
    "\n",
    "make_prediction_observed(det_data_Bessell_V, \"obs_det_data_Bessell_V_knn\", \"knn\", model_obs_det)\n",
    "make_prediction_observed(det_data_Bessell_R, \"obs_det_data_Bessell_R_knn\", \"knn\", model_obs_det)\n",
    "make_prediction_observed(det_data_Bessell_I, \"obs_det_data_Bessell_I_knn\", \"knn\", model_obs_det)\n",
    "make_prediction_observed(det_data_Bessell_B, \"obs_det_data_Bessell_B_knn\", \"knn\", model_obs_det)\n",
    "\n",
    "make_prediction_observed(ove_data_Bessell_V, \"obs_ove_data_Bessell_V_knn\", \"knn\", model_obs_ove)\n",
    "make_prediction_observed(ove_data_Bessell_R, \"obs_ove_data_Bessell_R_knn\", \"knn\", model_obs_ove)\n",
    "make_prediction_observed(ove_data_Bessell_I, \"obs_ove_data_Bessell_I_knn\", \"knn\", model_obs_ove)\n",
    "make_prediction_observed(ove_data_Bessell_B, \"obs_ove_data_Bessell_B_knn\", \"knn\", model_obs_ove)"
   ]
  },
  {
   "cell_type": "code",
   "execution_count": 7,
   "id": "341f70c5-c65c-43e4-9ab1-d92ff1911963",
   "metadata": {
    "pycharm": {
     "name": "#%%\n"
    }
   },
   "outputs": [],
   "source": [
    "# BLOK 5\n",
    "# nacitanie a predikcia parametrov observacnych systemov metodou SVR"
   ]
  },
  {
   "cell_type": "code",
   "execution_count": 45,
   "id": "a6f70739-b187-470e-8811-27bd0f1c8034",
   "metadata": {
    "pycharm": {
     "name": "#%%\n"
    }
   },
   "outputs": [],
   "source": [
    "# nacitanie Svr modelov\n",
    "\n",
    "model_obs_det = pickle.load(open(\"models/svr_detached_model.pkl\", 'rb'))\n",
    "model_obs_ove = pickle.load(open(\"models/svr_overcontact_model.pkl\", 'rb'))"
   ]
  },
  {
   "cell_type": "code",
   "execution_count": 49,
   "id": "cc361116-d48f-4bc4-9749-7be3d00e03bb",
   "metadata": {
    "pycharm": {
     "name": "#%%\n"
    }
   },
   "outputs": [],
   "source": [
    "# Predikcia parametrov observacnych systemov metodou SVR pre kazdy filter zvlast. \n",
    "# Vytvorenie suboru .csv so skutocnymi a predikovanymi hodnotami pre kazdy filter zvlast\n",
    "\n",
    "make_prediction_observed(det_data_Bessell_V, \"obs_det_data_Bessell_V_svr\", \"svr\", model_obs_det)\n",
    "make_prediction_observed(det_data_Bessell_R, \"obs_det_data_Bessell_R_svr\", \"svr\", model_obs_det)\n",
    "make_prediction_observed(det_data_Bessell_I, \"obs_det_data_Bessell_I_svr\", \"svr\" ,model_obs_det)\n",
    "make_prediction_observed(det_data_Bessell_B, \"obs_det_data_Bessell_B_svr\", \"svr\", model_obs_det)\n",
    "\n",
    "make_prediction_observed(ove_data_Bessell_V, \"obs_ove_data_Bessell_V_svr\", \"svr\", model_obs_ove)\n",
    "make_prediction_observed(ove_data_Bessell_R, \"obs_ove_data_Bessell_R_svr\", \"svr\", model_obs_ove)\n",
    "make_prediction_observed(ove_data_Bessell_I, \"obs_ove_data_Bessell_I_svr\", \"svr\", model_obs_ove)\n",
    "make_prediction_observed(ove_data_Bessell_B, \"obs_ove_data_Bessell_B_svr\", \"svr\", model_obs_ove)"
   ]
  },
  {
   "cell_type": "code",
   "execution_count": null,
   "id": "acb2839d-0ca2-4ca8-b698-fb1bee2c8b79",
   "metadata": {
    "pycharm": {
     "name": "#%%\n"
    }
   },
   "outputs": [],
   "source": []
  }
 ],
 "metadata": {
  "kernelspec": {
   "display_name": "Python 3 (ipykernel)",
   "language": "python",
   "name": "python3"
  },
  "language_info": {
   "codemirror_mode": {
    "name": "ipython",
    "version": 3
   },
   "file_extension": ".py",
   "mimetype": "text/x-python",
   "name": "python",
   "nbconvert_exporter": "python",
   "pygments_lexer": "ipython3",
   "version": "3.10.6"
  }
 },
 "nbformat": 4,
 "nbformat_minor": 5
}