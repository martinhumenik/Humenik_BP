{
 "cells": [
  {
   "cell_type": "code",
   "execution_count": null,
   "metadata": {
    "pycharm": {
     "name": "#%%\n"
    }
   },
   "outputs": [],
   "source": [
    "# VYTVORENIE DATASETOV overcontact_one_curve.pkl, overcontact_curves_samples_knn.pkl, overcontact_curves_samples_svr.pkl"
   ]
  },
  {
   "cell_type": "code",
   "execution_count": 2,
   "metadata": {
    "pycharm": {
     "name": "#%%\n"
    }
   },
   "outputs": [],
   "source": [
    "# BLOK 1\n",
    "# Importovanie kniznic.\n",
    "\n",
    "import numpy as np\n",
    "import pandas as pd\n",
    "import sqlite3\n",
    "import io"
   ]
  },
  {
   "cell_type": "code",
   "execution_count": 2,
   "metadata": {
    "pycharm": {
     "name": "#%%\n"
    }
   },
   "outputs": [],
   "source": [
    "# BLOK 2\n",
    "# Funkcia pre vyber svetelnej krivky z nespracovanych dat. Zadefinovanie cesty k databaze (subor .db).\n",
    "\n",
    "def get_curve(txt):\n",
    "    out = io.BytesIO(txt)\n",
    "    out.seek(0)\n",
    "    return np.load(out)\n",
    "\n",
    "FILEPATH = '../data-upjs/overcontact.db'"
   ]
  },
  {
   "cell_type": "code",
   "execution_count": 3,
   "metadata": {
    "pycharm": {
     "name": "#%%\n"
    }
   },
   "outputs": [
    {
     "name": "stdout",
     "output_type": "stream",
     "text": [
      "[('parameters',), ('curves',), ('auxiliary',)]\n"
     ]
    }
   ],
   "source": [
    "# BLOK 3 \n",
    "# Vytvorenie pripojenia na subor. Vypis vsetkych tabuliek v databaze.\n",
    "\n",
    "conn = sqlite3.connect(FILEPATH)\n",
    "\n",
    "sql_query = \"\"\"SELECT name FROM sqlite_master WHERE type='table';\"\"\"\n",
    "cursor = conn.cursor()\n",
    "cursor.execute(sql_query)\n",
    "print(cursor.fetchall())"
   ]
  },
  {
   "cell_type": "code",
   "execution_count": 4,
   "metadata": {
    "pycharm": {
     "name": "#%%\n"
    }
   },
   "outputs": [],
   "source": [
    "# BLOK 4\n",
    "# Nacitanie parametrov.\n",
    "\n",
    "df_parameters = pd.read_sql_query(\"SELECT id, mass_ratio, primary__surface_potential, secondary__surface_potential, primary__t_eff, secondary__t_eff, inclination FROM parameters\", conn)"
   ]
  },
  {
   "cell_type": "code",
   "execution_count": 5,
   "metadata": {
    "pycharm": {
     "name": "#%%\n"
    }
   },
   "outputs": [],
   "source": [
    "# BLOK 5\n",
    "# Nacitanie svetelnych kriviek.\n",
    "\n",
    "df_curves = pd.read_sql_query(\"SELECT * FROM curves\", conn)"
   ]
  },
  {
   "cell_type": "code",
   "execution_count": 6,
   "metadata": {
    "pycharm": {
     "name": "#%%\n"
    }
   },
   "outputs": [],
   "source": [
    "# BLOK 6\n",
    "# Vytvorenie tabulky. Jeden riadok = jeden system zakrytovych premennych hviezd v 13 filtroch.\n",
    "\n",
    "df1 = df_curves[[\"id\", \"Bessell_U\", \"Bessell_B\", \"Bessell_V\", \"Bessell_R\", \"Bessell_I\", \"SLOAN_u\", \"SLOAN_g\", \"SLOAN_r\", \"SLOAN_i\", \"SLOAN_z\", \"Kepler\", \"GaiaDR2\", \"TESS\"]]\n",
    "df2 = df_parameters[[\"id\",\"primary__t_eff\", \"secondary__t_eff\", \"inclination\", \"mass_ratio\", \"primary__surface_potential\", \"secondary__surface_potential\"]]\n",
    "df_merged = pd.merge(df1,df2,on=\"id\")\n",
    "df_merged[\"Bessell_U\"] = df_merged[\"Bessell_U\"].apply(get_curve)\n",
    "df_merged[\"Bessell_V\"] = df_merged[\"Bessell_V\"].apply(get_curve)\n",
    "df_merged[\"Bessell_R\"] = df_merged[\"Bessell_R\"].apply(get_curve)\n",
    "df_merged[\"Bessell_I\"] = df_merged[\"Bessell_I\"].apply(get_curve)\n",
    "df_merged[\"Bessell_B\"] = df_merged[\"Bessell_B\"].apply(get_curve)\n",
    "df_merged[\"SLOAN_u\"] = df_merged[\"SLOAN_u\"].apply(get_curve)\n",
    "df_merged[\"SLOAN_g\"] = df_merged[\"SLOAN_g\"].apply(get_curve)\n",
    "df_merged[\"SLOAN_r\"] = df_merged[\"SLOAN_r\"].apply(get_curve)\n",
    "df_merged[\"SLOAN_i\"] = df_merged[\"SLOAN_i\"].apply(get_curve)\n",
    "df_merged[\"SLOAN_z\"] = df_merged[\"SLOAN_z\"].apply(get_curve)\n",
    "df_merged[\"Kepler\"] = df_merged[\"Kepler\"].apply(get_curve)\n",
    "df_merged[\"GaiaDR2\"] = df_merged[\"GaiaDR2\"].apply(get_curve)\n",
    "df_merged[\"TESS\"] = df_merged[\"TESS\"].apply(get_curve)"
   ]
  },
  {
   "cell_type": "code",
   "execution_count": 7,
   "metadata": {
    "pycharm": {
     "name": "#%%\n"
    }
   },
   "outputs": [
    {
     "data": {
      "text/html": [
       "<div>\n",
       "<style scoped>\n",
       "    .dataframe tbody tr th:only-of-type {\n",
       "        vertical-align: middle;\n",
       "    }\n",
       "\n",
       "    .dataframe tbody tr th {\n",
       "        vertical-align: top;\n",
       "    }\n",
       "\n",
       "    .dataframe thead th {\n",
       "        text-align: right;\n",
       "    }\n",
       "</style>\n",
       "<table border=\"1\" class=\"dataframe\">\n",
       "  <thead>\n",
       "    <tr style=\"text-align: right;\">\n",
       "      <th></th>\n",
       "      <th>id</th>\n",
       "      <th>primary__t_eff</th>\n",
       "      <th>secondary__t_eff</th>\n",
       "      <th>inclination</th>\n",
       "      <th>mass_ratio</th>\n",
       "      <th>primary__surface_potential</th>\n",
       "      <th>secondary__surface_potential</th>\n",
       "    </tr>\n",
       "  </thead>\n",
       "  <tbody>\n",
       "    <tr>\n",
       "      <th>count</th>\n",
       "      <td>1.212796e+06</td>\n",
       "      <td>1.212796e+06</td>\n",
       "      <td>1.212796e+06</td>\n",
       "      <td>1.212796e+06</td>\n",
       "      <td>1.212796e+06</td>\n",
       "      <td>1.212796e+06</td>\n",
       "      <td>1.212796e+06</td>\n",
       "    </tr>\n",
       "    <tr>\n",
       "      <th>mean</th>\n",
       "      <td>4.951999e+07</td>\n",
       "      <td>6.537040e+03</td>\n",
       "      <td>6.246543e+03</td>\n",
       "      <td>1.222625e+00</td>\n",
       "      <td>1.420822e+00</td>\n",
       "      <td>3.985917e+00</td>\n",
       "      <td>3.985917e+00</td>\n",
       "    </tr>\n",
       "    <tr>\n",
       "      <th>std</th>\n",
       "      <td>1.923443e+07</td>\n",
       "      <td>9.691032e+02</td>\n",
       "      <td>9.725411e+02</td>\n",
       "      <td>2.181624e-01</td>\n",
       "      <td>1.389326e+00</td>\n",
       "      <td>1.840244e+00</td>\n",
       "      <td>1.840244e+00</td>\n",
       "    </tr>\n",
       "    <tr>\n",
       "      <th>min</th>\n",
       "      <td>5.525038e+06</td>\n",
       "      <td>4.250000e+03</td>\n",
       "      <td>4.250000e+03</td>\n",
       "      <td>4.949341e-01</td>\n",
       "      <td>1.000000e-01</td>\n",
       "      <td>1.912756e+00</td>\n",
       "      <td>1.912756e+00</td>\n",
       "    </tr>\n",
       "    <tr>\n",
       "      <th>25%</th>\n",
       "      <td>3.441575e+07</td>\n",
       "      <td>5.750000e+03</td>\n",
       "      <td>5.500000e+03</td>\n",
       "      <td>1.048325e+00</td>\n",
       "      <td>9.000000e-01</td>\n",
       "      <td>3.208226e+00</td>\n",
       "      <td>3.208226e+00</td>\n",
       "    </tr>\n",
       "    <tr>\n",
       "      <th>50%</th>\n",
       "      <td>5.565633e+07</td>\n",
       "      <td>6.500000e+03</td>\n",
       "      <td>6.250000e+03</td>\n",
       "      <td>1.230496e+00</td>\n",
       "      <td>1.000000e+00</td>\n",
       "      <td>3.469409e+00</td>\n",
       "      <td>3.469409e+00</td>\n",
       "    </tr>\n",
       "    <tr>\n",
       "      <th>75%</th>\n",
       "      <td>6.457760e+07</td>\n",
       "      <td>7.250000e+03</td>\n",
       "      <td>7.000000e+03</td>\n",
       "      <td>1.409921e+00</td>\n",
       "      <td>1.428571e+00</td>\n",
       "      <td>4.197352e+00</td>\n",
       "      <td>4.197352e+00</td>\n",
       "    </tr>\n",
       "    <tr>\n",
       "      <th>max</th>\n",
       "      <td>7.413890e+07</td>\n",
       "      <td>8.000000e+03</td>\n",
       "      <td>8.000000e+03</td>\n",
       "      <td>1.570796e+00</td>\n",
       "      <td>1.000000e+01</td>\n",
       "      <td>1.498052e+01</td>\n",
       "      <td>1.498052e+01</td>\n",
       "    </tr>\n",
       "  </tbody>\n",
       "</table>\n",
       "</div>"
      ],
      "text/plain": [
       "                 id  primary__t_eff  secondary__t_eff   inclination  \\\n",
       "count  1.212796e+06    1.212796e+06      1.212796e+06  1.212796e+06   \n",
       "mean   4.951999e+07    6.537040e+03      6.246543e+03  1.222625e+00   \n",
       "std    1.923443e+07    9.691032e+02      9.725411e+02  2.181624e-01   \n",
       "min    5.525038e+06    4.250000e+03      4.250000e+03  4.949341e-01   \n",
       "25%    3.441575e+07    5.750000e+03      5.500000e+03  1.048325e+00   \n",
       "50%    5.565633e+07    6.500000e+03      6.250000e+03  1.230496e+00   \n",
       "75%    6.457760e+07    7.250000e+03      7.000000e+03  1.409921e+00   \n",
       "max    7.413890e+07    8.000000e+03      8.000000e+03  1.570796e+00   \n",
       "\n",
       "         mass_ratio  primary__surface_potential  secondary__surface_potential  \n",
       "count  1.212796e+06                1.212796e+06                  1.212796e+06  \n",
       "mean   1.420822e+00                3.985917e+00                  3.985917e+00  \n",
       "std    1.389326e+00                1.840244e+00                  1.840244e+00  \n",
       "min    1.000000e-01                1.912756e+00                  1.912756e+00  \n",
       "25%    9.000000e-01                3.208226e+00                  3.208226e+00  \n",
       "50%    1.000000e+00                3.469409e+00                  3.469409e+00  \n",
       "75%    1.428571e+00                4.197352e+00                  4.197352e+00  \n",
       "max    1.000000e+01                1.498052e+01                  1.498052e+01  "
      ]
     },
     "execution_count": 7,
     "metadata": {},
     "output_type": "execute_result"
    }
   ],
   "source": [
    "# BLOK 7\n",
    "# Vytvorenie tabulky. Jeden riadok = jedna svetelna krivka podla jedneho filtra.\n",
    "\n",
    "df_final = pd.melt(df_merged, \n",
    "                   id_vars=[\"id\",\"primary__t_eff\", \"secondary__t_eff\", \"inclination\", \"mass_ratio\", \n",
    "                            \"primary__surface_potential\", \"secondary__surface_potential\"],\n",
    "                   var_name=\"filter\", value_name=\"curve\")\n",
    "df_final.describe()"
   ]
  },
  {
   "cell_type": "code",
   "execution_count": 12,
   "metadata": {
    "pycharm": {
     "name": "#%%\n"
    }
   },
   "outputs": [],
   "source": [
    "# BLOK 8\n",
    "# Uzavretie pripojenia na databazu. Ulozenie dat v podobe tabulky do suboru .pkl.\n",
    "\n",
    "conn.close()\n",
    "df_final.to_pickle(\"over_curves.pkl\")"
   ]
  },
  {
   "cell_type": "code",
   "execution_count": 13,
   "metadata": {
    "pycharm": {
     "name": "#%%\n"
    }
   },
   "outputs": [],
   "source": [
    "# BLOK 9\n",
    "# Vytvorenie vzorky 500000 kriviek pre ucely predikcie knn\n",
    "\n",
    "data_sample_knn = df_final.sample(n=500000, random_state=1234)\n",
    "data_sample_svr = df_final.sample(n=40000, random_state=1234)\n",
    "\n",
    "data_sample_knn.head()"
   ]
  },
  {
   "cell_type": "code",
   "execution_count": 16,
   "metadata": {
    "pycharm": {
     "name": "#%%\n"
    }
   },
   "outputs": [],
   "source": [
    "# BLOK 10\n",
    "# Ulozenie vzorky v podobe tabulky do suboru .pkl\n",
    "\n",
    "data_sample_knn.to_pickle(\"over_curves_samples_knn.pkl\")\n",
    "data_sample_svr.to_pickle(\"over_curves_samples_svr.pkl\")"
   ]
  },
  {
   "cell_type": "code",
   "execution_count": null,
   "metadata": {
    "pycharm": {
     "name": "#%%\n"
    }
   },
   "outputs": [],
   "source": []
  }
 ],
 "metadata": {
  "kernelspec": {
   "display_name": "Python 3 (ipykernel)",
   "language": "python",
   "name": "python3"
  },
  "language_info": {
   "codemirror_mode": {
    "name": "ipython",
    "version": 3
   },
   "file_extension": ".py",
   "mimetype": "text/x-python",
   "name": "python",
   "nbconvert_exporter": "python",
   "pygments_lexer": "ipython3",
   "version": "3.10.6"
  }
 },
 "nbformat": 4,
 "nbformat_minor": 4
}