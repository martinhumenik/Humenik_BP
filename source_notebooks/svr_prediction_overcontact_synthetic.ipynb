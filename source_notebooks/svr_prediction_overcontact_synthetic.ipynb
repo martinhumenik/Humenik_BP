{
 "cells": [
  {
   "cell_type": "code",
   "execution_count": 1,
   "id": "c8e8be60-a878-46ee-bcbf-46a76c6e1244",
   "metadata": {},
   "outputs": [],
   "source": [
    "# PREDIKCIA HODNOT FYZIKALNYCH PARAMETROV DOTYKOVYCH SYSTEMOCH METODOU SVR S PRIDANYM SUMOM A BEZ SUMU\n",
    "# VYTVORENIE A ULOZENIE MODELOV"
   ]
  },
  {
   "cell_type": "code",
   "execution_count": 2,
   "id": "235e2244-0abf-4c6b-b9f1-8fd82a825eb0",
   "metadata": {},
   "outputs": [],
   "source": [
    "# BLOK 1\n",
    "# Importovanie kniznic.\n",
    "\n",
    "import numpy as np\n",
    "import pandas as pd\n",
    "import matplotlib.pyplot as plt\n",
    "\n",
    "import pickle\n",
    "import os\n",
    "\n",
    "from sklearn.svm import SVR\n",
    "from sklearn.multioutput import MultiOutputRegressor\n",
    "from sklearn.pipeline import Pipeline\n",
    "\n",
    "from sklearn.model_selection import train_test_split\n",
    "from sklearn.metrics import mean_squared_error, mean_absolute_error, mean_absolute_percentage_error\n",
    "from sklearn.model_selection import GridSearchCV"
   ]
  },
  {
   "cell_type": "code",
   "execution_count": 3,
   "id": "694a2f11-963c-41bc-81aa-fde2229bb952",
   "metadata": {},
   "outputs": [],
   "source": [
    "# BLOK 2\n",
    "# Funkcie pre generovanie sumu. Nastavenie pseudo-nahodneho generatora.\n",
    "\n",
    "def generate_observation_sigma(space_obs_frac=0.5):\n",
    "    \"\"\"\n",
    "    Draws a standard deviation of noise in light curve points from a \"true\" value provided in synthetic light curve.\n",
    "    Noise sigma is drawn from bimodal distribution taking into account contributions from space based and earth based\n",
    "    observations which have different levels of stochastic noise.\n",
    "\n",
    "    :param space_obs_frac: ratio between earth based and space based observations\n",
    "    :return: float; standard deviation of the light curve noise\n",
    "    \"\"\"\n",
    "    earth_based_sigma = 4e-3\n",
    "    space_based_sigma = 2e-4\n",
    "    sigma = np.random.choice([earth_based_sigma, space_based_sigma], p=[1-space_obs_frac, space_obs_frac])\n",
    "    return np.random.rayleigh(sigma)\n",
    "\n",
    "def stochastic_noise_generator(curve):\n",
    "    \"\"\"\n",
    "    Introduces gaussian noise into synthetic observation provided in `curve`.\n",
    "\n",
    "    :param curve: numpy.array; normalized light curve\n",
    "    :return: Tuple(numpy.array, float); normalized light curve with added noise, standard deviation of observations\n",
    "    \"\"\"\n",
    "    sigma = generate_observation_sigma()\n",
    "    return np.random.normal(curve, sigma), np.full(curve.shape, sigma)\n",
    "\n",
    "np.random.seed(1234)"
   ]
  },
  {
   "cell_type": "code",
   "execution_count": 4,
   "id": "af83c962-e54a-434a-85ef-87bcfa434d4e",
   "metadata": {},
   "outputs": [],
   "source": [
    "# BLOK 2\n",
    "# Nacitanie vzorky dotykovych systemov\n",
    "\n",
    "data_sample = pd.read_pickle(\"overcontact_curves_samples_svr.pkl\")"
   ]
  },
  {
   "cell_type": "code",
   "execution_count": 14,
   "id": "bb6554fc-5914-4af8-8177-bdc1f51b7f22",
   "metadata": {},
   "outputs": [
    {
     "name": "stdout",
     "output_type": "stream",
     "text": [
      "Bessell_I    32\n",
      "TESS         31\n",
      "Kepler       27\n",
      "SLOAN_i      25\n",
      "Bessell_V    23\n",
      "SLOAN_g      23\n",
      "SLOAN_z      22\n",
      "Bessell_R    21\n",
      "Bessell_U    21\n",
      "SLOAN_r      21\n",
      "SLOAN_u      20\n",
      "GaiaDR2      19\n",
      "Bessell_B    15\n",
      "Name: filter, dtype: int64\n"
     ]
    }
   ],
   "source": [
    "# BLOK 4\n",
    "# Vyber a priprava dat. Skontrolovanie vyberu podla filtrov.\n",
    "\n",
    "np.random.seed(1)\n",
    "\n",
    "data_sample = data_sample\n",
    "data_sample[\"t2/t1\"]=data_sample[\"secondary__t_eff\"]/data_sample[\"primary__t_eff\"]\n",
    "data_sample=data_sample.round({\"mass_ratio\":14})\n",
    "\n",
    "y = data_sample[[\"t2/t1\", \"inclination\", \"mass_ratio\", \"primary__surface_potential\", \"secondary__surface_potential\"]]\n",
    "\n",
    "X=[]\n",
    "for row in data_sample[\"curve\"]:\n",
    "    X.append(row)\n",
    "\n",
    "print(data_sample[\"filter\"].value_counts())"
   ]
  },
  {
   "cell_type": "code",
   "execution_count": 7,
   "id": "9e1dd114-fade-49c0-90e7-370a773f970e",
   "metadata": {},
   "outputs": [],
   "source": [
    "# BLOK 4 - a\n",
    "# rozdelenie dat na trenovaciu a testovaciu mnozinu v pomere 80:20\n",
    "# mnoziny pozostavaju z kriviek bez pridaneho sumu\n",
    "\n",
    "X_train, X_test, y_train, y_test = train_test_split(\n",
    "    X, y, test_size=0.2\n",
    ")"
   ]
  },
  {
   "cell_type": "code",
   "execution_count": 15,
   "id": "85d21a20-dbf7-46a4-b78a-ab07ee4a5c81",
   "metadata": {},
   "outputs": [],
   "source": [
    "# BLOK 4 - b\n",
    "# rozdelenie dat na trenovaciu a testovaciu mnozinu v pomere 80:20\n",
    "# svetelnym krivkam je pridany umely sum\n",
    "\n",
    "X_train_n, X_test_n, y_train_n, y_test_n = train_test_split(\n",
    "    X, y, test_size=0.2\n",
    ")\n",
    "\n",
    "X_train=[]\n",
    "y_train=[]\n",
    "for i in range(len(X_train_n)):\n",
    "    for j in range(3):\n",
    "        curve=stochastic_noise_generator(X_train_n[i])\n",
    "        X_train.append(curve[0])\n",
    "        y_train.append(y_train_n.iloc[i])\n",
    "        j+=1        \n",
    "X_train=np.array(X_train)\n",
    "y_train=np.array(y_train)\n",
    "\n",
    "X_test=[]\n",
    "y_test=[]\n",
    "for i in range(len(X_test_n)):\n",
    "    for j in range(3):\n",
    "        curve=stochastic_noise_generator(X_test_n[i])\n",
    "        X_test.append(curve[0])\n",
    "        y_test.append(y_test_n.iloc[i])\n",
    "        j+=1\n",
    "X_test=np.array(X_test)\n",
    "y_test=np.array(y_test)"
   ]
  },
  {
   "cell_type": "code",
   "execution_count": 16,
   "id": "6c060578-4258-4ace-aa62-5977bb876fa0",
   "metadata": {},
   "outputs": [
    {
     "data": {
      "text/html": [
       "<div>\n",
       "<style scoped>\n",
       "    .dataframe tbody tr th:only-of-type {\n",
       "        vertical-align: middle;\n",
       "    }\n",
       "\n",
       "    .dataframe tbody tr th {\n",
       "        vertical-align: top;\n",
       "    }\n",
       "\n",
       "    .dataframe thead th {\n",
       "        text-align: right;\n",
       "    }\n",
       "</style>\n",
       "<table border=\"1\" class=\"dataframe\">\n",
       "  <thead>\n",
       "    <tr style=\"text-align: right;\">\n",
       "      <th></th>\n",
       "      <th>index</th>\n",
       "      <th>t2/t1</th>\n",
       "      <th>inclination</th>\n",
       "      <th>mass_ratio</th>\n",
       "      <th>primary__surface_potential</th>\n",
       "      <th>secondary__surface_potential</th>\n",
       "    </tr>\n",
       "  </thead>\n",
       "  <tbody>\n",
       "    <tr>\n",
       "      <th>0</th>\n",
       "      <td>0</td>\n",
       "      <td>0.967742</td>\n",
       "      <td>1.570796</td>\n",
       "      <td>2.0</td>\n",
       "      <td>5.167942</td>\n",
       "      <td>5.167942</td>\n",
       "    </tr>\n",
       "    <tr>\n",
       "      <th>1</th>\n",
       "      <td>1</td>\n",
       "      <td>0.967742</td>\n",
       "      <td>1.570796</td>\n",
       "      <td>2.0</td>\n",
       "      <td>5.167942</td>\n",
       "      <td>5.167942</td>\n",
       "    </tr>\n",
       "    <tr>\n",
       "      <th>2</th>\n",
       "      <td>2</td>\n",
       "      <td>0.967742</td>\n",
       "      <td>1.570796</td>\n",
       "      <td>2.0</td>\n",
       "      <td>5.167942</td>\n",
       "      <td>5.167942</td>\n",
       "    </tr>\n",
       "    <tr>\n",
       "      <th>3</th>\n",
       "      <td>3</td>\n",
       "      <td>0.961538</td>\n",
       "      <td>1.541077</td>\n",
       "      <td>0.7</td>\n",
       "      <td>3.155225</td>\n",
       "      <td>3.155225</td>\n",
       "    </tr>\n",
       "    <tr>\n",
       "      <th>4</th>\n",
       "      <td>4</td>\n",
       "      <td>0.961538</td>\n",
       "      <td>1.541077</td>\n",
       "      <td>0.7</td>\n",
       "      <td>3.155225</td>\n",
       "      <td>3.155225</td>\n",
       "    </tr>\n",
       "  </tbody>\n",
       "</table>\n",
       "</div>"
      ],
      "text/plain": [
       "   index     t2/t1  inclination  mass_ratio  primary__surface_potential  \\\n",
       "0      0  0.967742     1.570796         2.0                    5.167942   \n",
       "1      1  0.967742     1.570796         2.0                    5.167942   \n",
       "2      2  0.967742     1.570796         2.0                    5.167942   \n",
       "3      3  0.961538     1.541077         0.7                    3.155225   \n",
       "4      4  0.961538     1.541077         0.7                    3.155225   \n",
       "\n",
       "   secondary__surface_potential  \n",
       "0                      5.167942  \n",
       "1                      5.167942  \n",
       "2                      5.167942  \n",
       "3                      3.155225  \n",
       "4                      3.155225  "
      ]
     },
     "execution_count": 16,
     "metadata": {},
     "output_type": "execute_result"
    }
   ],
   "source": [
    "# Uprava testovacej mnoziny na dataframe\n",
    "\n",
    "y_test = pd.DataFrame(y_test, columns=[\"t2/t1\", \"inclination\", \"mass_ratio\", \"primary__surface_potential\", \"secondary__surface_potential\"])\n",
    "y_test = y_test.reset_index()\n",
    "y_test.head()"
   ]
  },
  {
   "cell_type": "code",
   "execution_count": 17,
   "id": "50663c4a-ed46-47cf-87c3-b7850a8c7646",
   "metadata": {},
   "outputs": [
    {
     "data": {
      "text/html": [
       "<style>#sk-container-id-3 {color: black;background-color: white;}#sk-container-id-3 pre{padding: 0;}#sk-container-id-3 div.sk-toggleable {background-color: white;}#sk-container-id-3 label.sk-toggleable__label {cursor: pointer;display: block;width: 100%;margin-bottom: 0;padding: 0.3em;box-sizing: border-box;text-align: center;}#sk-container-id-3 label.sk-toggleable__label-arrow:before {content: \"▸\";float: left;margin-right: 0.25em;color: #696969;}#sk-container-id-3 label.sk-toggleable__label-arrow:hover:before {color: black;}#sk-container-id-3 div.sk-estimator:hover label.sk-toggleable__label-arrow:before {color: black;}#sk-container-id-3 div.sk-toggleable__content {max-height: 0;max-width: 0;overflow: hidden;text-align: left;background-color: #f0f8ff;}#sk-container-id-3 div.sk-toggleable__content pre {margin: 0.2em;color: black;border-radius: 0.25em;background-color: #f0f8ff;}#sk-container-id-3 input.sk-toggleable__control:checked~div.sk-toggleable__content {max-height: 200px;max-width: 100%;overflow: auto;}#sk-container-id-3 input.sk-toggleable__control:checked~label.sk-toggleable__label-arrow:before {content: \"▾\";}#sk-container-id-3 div.sk-estimator input.sk-toggleable__control:checked~label.sk-toggleable__label {background-color: #d4ebff;}#sk-container-id-3 div.sk-label input.sk-toggleable__control:checked~label.sk-toggleable__label {background-color: #d4ebff;}#sk-container-id-3 input.sk-hidden--visually {border: 0;clip: rect(1px 1px 1px 1px);clip: rect(1px, 1px, 1px, 1px);height: 1px;margin: -1px;overflow: hidden;padding: 0;position: absolute;width: 1px;}#sk-container-id-3 div.sk-estimator {font-family: monospace;background-color: #f0f8ff;border: 1px dotted black;border-radius: 0.25em;box-sizing: border-box;margin-bottom: 0.5em;}#sk-container-id-3 div.sk-estimator:hover {background-color: #d4ebff;}#sk-container-id-3 div.sk-parallel-item::after {content: \"\";width: 100%;border-bottom: 1px solid gray;flex-grow: 1;}#sk-container-id-3 div.sk-label:hover label.sk-toggleable__label {background-color: #d4ebff;}#sk-container-id-3 div.sk-serial::before {content: \"\";position: absolute;border-left: 1px solid gray;box-sizing: border-box;top: 0;bottom: 0;left: 50%;z-index: 0;}#sk-container-id-3 div.sk-serial {display: flex;flex-direction: column;align-items: center;background-color: white;padding-right: 0.2em;padding-left: 0.2em;position: relative;}#sk-container-id-3 div.sk-item {position: relative;z-index: 1;}#sk-container-id-3 div.sk-parallel {display: flex;align-items: stretch;justify-content: center;background-color: white;position: relative;}#sk-container-id-3 div.sk-item::before, #sk-container-id-3 div.sk-parallel-item::before {content: \"\";position: absolute;border-left: 1px solid gray;box-sizing: border-box;top: 0;bottom: 0;left: 50%;z-index: -1;}#sk-container-id-3 div.sk-parallel-item {display: flex;flex-direction: column;z-index: 1;position: relative;background-color: white;}#sk-container-id-3 div.sk-parallel-item:first-child::after {align-self: flex-end;width: 50%;}#sk-container-id-3 div.sk-parallel-item:last-child::after {align-self: flex-start;width: 50%;}#sk-container-id-3 div.sk-parallel-item:only-child::after {width: 0;}#sk-container-id-3 div.sk-dashed-wrapped {border: 1px dashed gray;margin: 0 0.4em 0.5em 0.4em;box-sizing: border-box;padding-bottom: 0.4em;background-color: white;}#sk-container-id-3 div.sk-label label {font-family: monospace;font-weight: bold;display: inline-block;line-height: 1.2em;}#sk-container-id-3 div.sk-label-container {text-align: center;}#sk-container-id-3 div.sk-container {/* jupyter's `normalize.less` sets `[hidden] { display: none; }` but bootstrap.min.css set `[hidden] { display: none !important; }` so we also need the `!important` here to be able to override the default hidden behavior on the sphinx rendered scikit-learn.org. See: https://github.com/scikit-learn/scikit-learn/issues/21755 */display: inline-block !important;position: relative;}#sk-container-id-3 div.sk-text-repr-fallback {display: none;}</style><div id=\"sk-container-id-3\" class=\"sk-top-container\"><div class=\"sk-text-repr-fallback\"><pre>Pipeline(steps=[(&#x27;reg&#x27;, MultiOutputRegressor(estimator=SVR(C=5, gamma=3.4)))])</pre><b>In a Jupyter environment, please rerun this cell to show the HTML representation or trust the notebook. <br />On GitHub, the HTML representation is unable to render, please try loading this page with nbviewer.org.</b></div><div class=\"sk-container\" hidden><div class=\"sk-item sk-dashed-wrapped\"><div class=\"sk-label-container\"><div class=\"sk-label sk-toggleable\"><input class=\"sk-toggleable__control sk-hidden--visually\" id=\"sk-estimator-id-9\" type=\"checkbox\" ><label for=\"sk-estimator-id-9\" class=\"sk-toggleable__label sk-toggleable__label-arrow\">Pipeline</label><div class=\"sk-toggleable__content\"><pre>Pipeline(steps=[(&#x27;reg&#x27;, MultiOutputRegressor(estimator=SVR(C=5, gamma=3.4)))])</pre></div></div></div><div class=\"sk-serial\"><div class=\"sk-item sk-dashed-wrapped\"><div class=\"sk-label-container\"><div class=\"sk-label sk-toggleable\"><input class=\"sk-toggleable__control sk-hidden--visually\" id=\"sk-estimator-id-10\" type=\"checkbox\" ><label for=\"sk-estimator-id-10\" class=\"sk-toggleable__label sk-toggleable__label-arrow\">reg: MultiOutputRegressor</label><div class=\"sk-toggleable__content\"><pre>MultiOutputRegressor(estimator=SVR(C=5, gamma=3.4))</pre></div></div></div><div class=\"sk-parallel\"><div class=\"sk-parallel-item\"><div class=\"sk-item\"><div class=\"sk-label-container\"><div class=\"sk-label sk-toggleable\"><input class=\"sk-toggleable__control sk-hidden--visually\" id=\"sk-estimator-id-11\" type=\"checkbox\" ><label for=\"sk-estimator-id-11\" class=\"sk-toggleable__label sk-toggleable__label-arrow\">estimator: SVR</label><div class=\"sk-toggleable__content\"><pre>SVR(C=5, gamma=3.4)</pre></div></div></div><div class=\"sk-serial\"><div class=\"sk-item\"><div class=\"sk-estimator sk-toggleable\"><input class=\"sk-toggleable__control sk-hidden--visually\" id=\"sk-estimator-id-12\" type=\"checkbox\" ><label for=\"sk-estimator-id-12\" class=\"sk-toggleable__label sk-toggleable__label-arrow\">SVR</label><div class=\"sk-toggleable__content\"><pre>SVR(C=5, gamma=3.4)</pre></div></div></div></div></div></div></div></div></div></div></div></div>"
      ],
      "text/plain": [
       "Pipeline(steps=[('reg', MultiOutputRegressor(estimator=SVR(C=5, gamma=3.4)))])"
      ]
     },
     "execution_count": 17,
     "metadata": {},
     "output_type": "execute_result"
    }
   ],
   "source": [
    "# BLOK 5\n",
    "# Najdenie optimalnych hodnot hyper-parametrov pre model, vypis najlepsieho modelu\n",
    "\n",
    "pipe_svr = Pipeline([('reg', MultiOutputRegressor(SVR()))])\n",
    "grid_param_svr = {\n",
    "    \"reg__estimator__C\": range(3, 6),\n",
    "    \"reg__estimator__gamma\": [3.4, 3.6, 3.8, 4.0]\n",
    "}\n",
    "gs_svr = (GridSearchCV(estimator=pipe_svr, \n",
    "                      param_grid=grid_param_svr, \n",
    "                      ))\n",
    "gs_svr = gs_svr.fit(X_train,y_train)\n",
    "best_params = gs_svr.best_params_  \n",
    "gs_svr.best_estimator_  "
   ]
  },
  {
   "cell_type": "code",
   "execution_count": 18,
   "id": "5f47cd8f-1abc-4b70-8f78-908a7840396b",
   "metadata": {},
   "outputs": [
    {
     "data": {
      "text/plain": [
       "{'C': 5,\n",
       " 'cache_size': 200,\n",
       " 'coef0': 0.0,\n",
       " 'degree': 3,\n",
       " 'epsilon': 0.05,\n",
       " 'gamma': 3.6,\n",
       " 'kernel': 'rbf',\n",
       " 'max_iter': -1,\n",
       " 'shrinking': True,\n",
       " 'tol': 0.001,\n",
       " 'verbose': False}"
      ]
     },
     "execution_count": 18,
     "metadata": {},
     "output_type": "execute_result"
    }
   ],
   "source": [
    "# BLOK 6\n",
    "# Vytvorenie architektury modelu. Spustenie trenovania na trenovacej mnozine. Vypis architektury modelu\n",
    "\n",
    "svr_model = SVR(kernel='rbf', cache_size=200, C=5, gamma=3.8, epsilon=0.05)\n",
    "regr_model = MultiOutputRegressor(svr_model)\n",
    "regr_model.fit(X_train, y_train)\n",
    "\n",
    "svr_model.get_params()"
   ]
  },
  {
   "cell_type": "code",
   "execution_count": 19,
   "id": "2535ff72-1f2e-4d2a-9f00-1547a4bdd088",
   "metadata": {},
   "outputs": [
    {
     "data": {
      "text/html": [
       "<div>\n",
       "<style scoped>\n",
       "    .dataframe tbody tr th:only-of-type {\n",
       "        vertical-align: middle;\n",
       "    }\n",
       "\n",
       "    .dataframe tbody tr th {\n",
       "        vertical-align: top;\n",
       "    }\n",
       "\n",
       "    .dataframe thead th {\n",
       "        text-align: right;\n",
       "    }\n",
       "</style>\n",
       "<table border=\"1\" class=\"dataframe\">\n",
       "  <thead>\n",
       "    <tr style=\"text-align: right;\">\n",
       "      <th></th>\n",
       "      <th>T2/T1</th>\n",
       "      <th>Inc</th>\n",
       "      <th>mass_ratio</th>\n",
       "      <th>PSP</th>\n",
       "      <th>SSP</th>\n",
       "    </tr>\n",
       "  </thead>\n",
       "  <tbody>\n",
       "    <tr>\n",
       "      <th>0</th>\n",
       "      <td>0.949733</td>\n",
       "      <td>1.477342</td>\n",
       "      <td>1.192011</td>\n",
       "      <td>3.820182</td>\n",
       "      <td>3.820182</td>\n",
       "    </tr>\n",
       "    <tr>\n",
       "      <th>1</th>\n",
       "      <td>0.949748</td>\n",
       "      <td>1.485370</td>\n",
       "      <td>1.163710</td>\n",
       "      <td>3.822037</td>\n",
       "      <td>3.822037</td>\n",
       "    </tr>\n",
       "    <tr>\n",
       "      <th>2</th>\n",
       "      <td>0.949742</td>\n",
       "      <td>1.483258</td>\n",
       "      <td>1.202678</td>\n",
       "      <td>3.860419</td>\n",
       "      <td>3.860419</td>\n",
       "    </tr>\n",
       "    <tr>\n",
       "      <th>3</th>\n",
       "      <td>0.949732</td>\n",
       "      <td>1.531986</td>\n",
       "      <td>0.692155</td>\n",
       "      <td>3.149057</td>\n",
       "      <td>3.149057</td>\n",
       "    </tr>\n",
       "    <tr>\n",
       "      <th>4</th>\n",
       "      <td>0.949727</td>\n",
       "      <td>1.530509</td>\n",
       "      <td>0.682355</td>\n",
       "      <td>3.131217</td>\n",
       "      <td>3.131217</td>\n",
       "    </tr>\n",
       "  </tbody>\n",
       "</table>\n",
       "</div>"
      ],
      "text/plain": [
       "      T2/T1       Inc  mass_ratio       PSP       SSP\n",
       "0  0.949733  1.477342    1.192011  3.820182  3.820182\n",
       "1  0.949748  1.485370    1.163710  3.822037  3.822037\n",
       "2  0.949742  1.483258    1.202678  3.860419  3.860419\n",
       "3  0.949732  1.531986    0.692155  3.149057  3.149057\n",
       "4  0.949727  1.530509    0.682355  3.131217  3.131217"
      ]
     },
     "execution_count": 19,
     "metadata": {},
     "output_type": "execute_result"
    }
   ],
   "source": [
    "# BLOK 7\n",
    "# Predikcia a vytvorenie dataframu z predikovanych hodnot\n",
    "\n",
    "y_pred = regr_model.predict(X_test)\n",
    "\n",
    "df_y_pred = pd.DataFrame(y_pred, columns=[\"T2/T1\", \"Inc\", \"mass_ratio\", \"PSP\", \"SSP\"])\n",
    "df_y_pred.head()"
   ]
  },
  {
   "cell_type": "code",
   "execution_count": 20,
   "id": "391b47e4-7486-4816-87ff-e1805530e1da",
   "metadata": {},
   "outputs": [
    {
     "name": "stdout",
     "output_type": "stream",
     "text": [
      "MSE T2/T1: 0.001066210948842509 MAE T2/T1: 0.027897430245925284 MAPE T2/T1: 2.8869121263042787%\n",
      "MSE INC: 0.0019289547416590264 MAE INC: 0.03279338878590374 MAPE INC: 2.7615423923164433%\n",
      "MSE MASS: 0.2022838694018152 MAE MASS: 0.3407841747877742 MAPE MASS: 32.39849397801792%\n",
      "MSE PSP: 0.3912351050794882 MAE PSP: 0.4604920543043071 MAPE PSP: 12.378276944510343%\n",
      "MSE SSP: 0.3912351050794882 MAE SSP: 0.4604920543043071 MAPE SSP: 12.378276944510343%\n"
     ]
    }
   ],
   "source": [
    "# BLOK 8\n",
    "# Chybovost pri predikcii pre kazdy parameter zvlast na testovacich krivkach\n",
    "\n",
    "mse_t = mean_squared_error(y_test[\"t2/t1\"], df_y_pred['T2/T1'])\n",
    "mape_t = mean_absolute_percentage_error(y_test[\"t2/t1\"], df_y_pred['T2/T1'])\n",
    "mae_t = mean_absolute_error(y_test[\"t2/t1\"], df_y_pred['T2/T1'])\n",
    "\n",
    "mse_inc = mean_squared_error(y_test[\"inclination\"], df_y_pred['Inc'])\n",
    "mape_inc = mean_absolute_percentage_error(y_test[\"inclination\"], df_y_pred['Inc'])\n",
    "mae_inc = mean_absolute_error(y_test[\"inclination\"], df_y_pred['Inc'])\n",
    "\n",
    "mse_mass = mean_squared_error(y_test[\"mass_ratio\"], df_y_pred['mass_ratio'])\n",
    "mape_mass = mean_absolute_percentage_error(y_test[\"mass_ratio\"], df_y_pred['mass_ratio'])\n",
    "mae_mass = mean_absolute_error(y_test[\"mass_ratio\"], df_y_pred['mass_ratio'])\n",
    "\n",
    "mse_psp = mean_squared_error(y_test[\"primary__surface_potential\"], df_y_pred['PSP'])\n",
    "mape_psp = mean_absolute_percentage_error(y_test[\"primary__surface_potential\"], df_y_pred['PSP'])\n",
    "mae_psp = mean_absolute_error(y_test[\"primary__surface_potential\"], df_y_pred['PSP'])\n",
    "\n",
    "mse_ssp = mean_squared_error(y_test[\"secondary__surface_potential\"], df_y_pred['SSP'])\n",
    "mape_ssp = mean_absolute_percentage_error(y_test[\"secondary__surface_potential\"], df_y_pred['SSP'])\n",
    "mae_ssp = mean_absolute_error(y_test[\"secondary__surface_potential\"], df_y_pred['SSP'])\n",
    "\n",
    "print(\"MSE T2/T1: \" + str(mse_t) + \" MAE T2/T1: \" + str(mae_t) + \" MAPE T2/T1: \" + str(mape_t * 100) + \"%\")\n",
    "print(\"MSE INC: \" + str(mse_inc) + \" MAE INC: \" + str(mae_inc) + \" MAPE INC: \" + str(mape_inc * 100) + \"%\")\n",
    "print(\"MSE MASS: \" + str(mse_mass) + \" MAE MASS: \" + str(mae_mass) + \" MAPE MASS: \" + str(mape_mass * 100) + \"%\")\n",
    "print(\"MSE PSP: \" + str(mse_psp) + \" MAE PSP: \" + str(mae_psp) + \" MAPE PSP: \" + str(mape_psp * 100) + \"%\")\n",
    "print(\"MSE SSP: \" + str(mse_ssp) + \" MAE SSP: \" + str(mae_ssp) + \" MAPE SSP: \" + str(mape_ssp * 100) + \"%\")"
   ]
  },
  {
   "cell_type": "code",
   "execution_count": null,
   "id": "56efb126-eed6-452b-950b-80e512bfb46f",
   "metadata": {},
   "outputs": [],
   "source": [
    "# BLOK 9\n",
    "# ulozenie modelu\n",
    "\n",
    "os.makedirs(os.path.dirname(\"models/svr_overcontact_model.pkl\"), exist_ok=True)\n",
    "pickle.dump(regr_model, open(\"models/svr_overcontact_model.pkl\", 'wb'))"
   ]
  },
  {
   "cell_type": "code",
   "execution_count": null,
   "id": "befadb29-afb9-47f2-b084-23d5176ecfe0",
   "metadata": {},
   "outputs": [],
   "source": []
  }
 ],
 "metadata": {
  "kernelspec": {
   "display_name": "Python 3 (ipykernel)",
   "language": "python",
   "name": "python3"
  },
  "language_info": {
   "codemirror_mode": {
    "name": "ipython",
    "version": 3
   },
   "file_extension": ".py",
   "mimetype": "text/x-python",
   "name": "python",
   "nbconvert_exporter": "python",
   "pygments_lexer": "ipython3",
   "version": "3.10.6"
  }
 },
 "nbformat": 4,
 "nbformat_minor": 5
}
