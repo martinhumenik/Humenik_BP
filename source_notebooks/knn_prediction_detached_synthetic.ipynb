{
 "cells": [
  {
   "cell_type": "code",
   "execution_count": 7,
   "id": "74382792-dbd7-4849-950f-8cdb66a4c86f",
   "metadata": {
    "pycharm": {
     "name": "#%%\n"
    }
   },
   "outputs": [],
   "source": [
    "# PREDIKCIA HODNOT FYZIKALNYCH PARAMETROV ODDELENYCH SYSTEMOCH METODOU k-NN S PRIDANYM SUMOM A BEZ SUMU\n",
    "# VYTVORENIE A ULOZENIE MODELOV"
   ]
  },
  {
   "cell_type": "code",
   "execution_count": 1,
   "id": "4d9b3d0d-265f-4c8c-8501-fad12614bf78",
   "metadata": {
    "pycharm": {
     "name": "#%%\n"
    }
   },
   "outputs": [],
   "source": [
    "# BLOK 1\n",
    "# Importovanie kniznic.\n",
    "\n",
    "import numpy as np\n",
    "import pandas as pd\n",
    "\n",
    "import pickle\n",
    "import os\n",
    "\n",
    "from sklearn.neighbors import KNeighborsRegressor\n",
    "from sklearn.model_selection import GridSearchCV\n",
    "from sklearn.pipeline import Pipeline\n",
    "from sklearn.multioutput import MultiOutputRegressor\n",
    "\n",
    "from sklearn.model_selection import train_test_split\n",
    "from sklearn.metrics import mean_squared_error, mean_absolute_error, mean_absolute_percentage_error"
   ]
  },
  {
   "cell_type": "code",
   "execution_count": 2,
   "id": "888bcfc8-187a-4300-b22b-884f8ee0ba62",
   "metadata": {
    "pycharm": {
     "name": "#%%\n"
    }
   },
   "outputs": [],
   "source": [
    "# BLOK 2\n",
    "# Funkcie pre generovanie sumu. Nastavenie pseudo-nahodneho generatora.\n",
    "\n",
    "def generate_observation_sigma(space_obs_frac=0.5):\n",
    "    \"\"\"\n",
    "    Draws a standard deviation of noise in light curve points from a \"true\" value provided in synthetic light curve.\n",
    "    Noise sigma is drawn from bimodal distribution taking into account contributions from space based and earth based\n",
    "    observations which have different levels of stochastic noise.\n",
    "\n",
    "    :param space_obs_frac: ratio between earth based and space based observations\n",
    "    :return: float; standard deviation of the light curve noise\n",
    "    \"\"\"\n",
    "    earth_based_sigma = 4e-3\n",
    "    space_based_sigma = 2e-4\n",
    "    sigma = np.random.choice([earth_based_sigma, space_based_sigma], p=[1-space_obs_frac, space_obs_frac])\n",
    "    return np.random.rayleigh(sigma)\n",
    "\n",
    "def stochastic_noise_generator(curve):\n",
    "    \"\"\"\n",
    "    Introduces gaussian noise into synthetic observation provided in `curve`.\n",
    "\n",
    "    :param curve: numpy.array; normalized light curve\n",
    "    :return: Tuple(numpy.array, float); normalized light curve with added noise, standard deviation of observations\n",
    "    \"\"\"\n",
    "    sigma = generate_observation_sigma()\n",
    "    return np.random.normal(curve, sigma), np.full(curve.shape, sigma)\n",
    "\n",
    "np.random.seed(1234)"
   ]
  },
  {
   "cell_type": "code",
   "execution_count": 3,
   "id": "65fd7272-ee8f-4dd2-a756-396170af1aa1",
   "metadata": {
    "pycharm": {
     "name": "#%%\n"
    }
   },
   "outputs": [
    {
     "data": {
      "text/plain": [
       "500000"
      ]
     },
     "execution_count": 3,
     "metadata": {},
     "output_type": "execute_result"
    }
   ],
   "source": [
    "# BLOK 2\n",
    "# Nacitanie vzorky oddelenych systemov\n",
    "\n",
    "data_sample = pd.read_pickle(\"detached_curves_samples_knn.pkl\").reset_index() \n",
    "len(data_sample)"
   ]
  },
  {
   "cell_type": "code",
   "execution_count": 4,
   "id": "bfaa8cdc-06bc-40a3-807c-b62c03c5cb7f",
   "metadata": {
    "pycharm": {
     "name": "#%%\n"
    }
   },
   "outputs": [
    {
     "name": "stdout",
     "output_type": "stream",
     "text": [
      "Bessell_V    12\n",
      "Kepler       11\n",
      "SLOAN_g      11\n",
      "SLOAN_u       9\n",
      "Bessell_U     8\n",
      "GaiaDR2       8\n",
      "Bessell_B     7\n",
      "Bessell_I     6\n",
      "SLOAN_i       6\n",
      "SLOAN_r       6\n",
      "Bessell_R     6\n",
      "SLOAN_z       6\n",
      "TESS          4\n",
      "Name: filter, dtype: int64\n"
     ]
    }
   ],
   "source": [
    "# BLOK 3\n",
    "# Vyber a priprava dat. Skontrolovanie vyberu podla filtrov.\n",
    "np.random.seed(1)\n",
    "\n",
    "# data_sample=data_sample.sample(n=120000, random_state=1234)\n",
    "data_sample[\"t2/t1\"]=data_sample[\"secondary__t_eff\"]/data_sample[\"primary__t_eff\"]\n",
    "data_sample=data_sample.round({\"mass_ratio\":14})\n",
    "\n",
    "\n",
    "y = data_sample[[\"t2/t1\", \"inclination\", \"mass_ratio\", \"primary__surface_potential\", \"secondary__surface_potential\"]]\n",
    "X=[]\n",
    "for row in data_sample[\"curve\"]:\n",
    "    X.append(row)\n",
    "\n",
    "print(data_sample[\"filter\"].value_counts())"
   ]
  },
  {
   "cell_type": "code",
   "execution_count": 5,
   "id": "71c49b9f-f84c-42f0-a1f9-16faf56de060",
   "metadata": {
    "pycharm": {
     "name": "#%%\n"
    }
   },
   "outputs": [],
   "source": [
    "# BLOK 4 - a\n",
    "# rozdelenie dat na trenovaciu a testovaciu mnozinu v pomere 80:20\n",
    "# mnoziny pozostavaju z kriviek bez pridaneho sumu\n",
    "\n",
    "X_train, X_test, y_train, y_test = train_test_split(\n",
    "    X, y, test_size=0.2\n",
    ")"
   ]
  },
  {
   "cell_type": "code",
   "execution_count": 5,
   "id": "30d4860c-910a-46f8-a417-c9720e3571b1",
   "metadata": {
    "pycharm": {
     "name": "#%%\n"
    }
   },
   "outputs": [],
   "source": [
    "# BLOK 4 - b\n",
    "# rozdelenie dat na trenovaciu a testovaciu mnozinu v pomere 80:20\n",
    "# svetelnym krivkam je pridany umely sum\n",
    "\n",
    "X_train_n, X_test_n, y_train_n, y_test_n = train_test_split(\n",
    "    X, y, test_size=0.2\n",
    ")\n",
    "\n",
    "X_train=[]\n",
    "y_train=[]\n",
    "for i in range(len(X_train_n)):\n",
    "    for j in range(3):\n",
    "        curve=stochastic_noise_generator(X_train_n[i])\n",
    "        X_train.append(curve[0])\n",
    "        y_train.append(y_train_n.iloc[i])\n",
    "        j+=1        \n",
    "X_train=np.array(X_train)\n",
    "y_train=np.array(y_train)\n",
    "\n",
    "X_test=[]\n",
    "y_test=[]\n",
    "for i in range(len(X_test_n)):\n",
    "    for j in range(3):\n",
    "        curve=stochastic_noise_generator(X_test_n[i])\n",
    "        X_test.append(curve[0])\n",
    "        y_test.append(y_test_n.iloc[i])\n",
    "        j+=1\n",
    "X_test=np.array(X_test)\n",
    "y_test=np.array(y_test)"
   ]
  },
  {
   "cell_type": "code",
   "execution_count": null,
   "id": "b3d316bd-db8a-424c-b4cb-3a6d3234f381",
   "metadata": {
    "pycharm": {
     "name": "#%%\n"
    }
   },
   "outputs": [],
   "source": [
    "# Uprava testovacej mnoziny na dataframe\n",
    "\n",
    "y_test = pd.DataFrame(y_test, columns=[\"t2/t1\", \"inclination\", \"mass_ratio\", \"primary__surface_potential\", \"secondary__surface_potential\"])\n",
    "y_test = y_test.reset_index()"
   ]
  },
  {
   "cell_type": "code",
   "execution_count": null,
   "id": "ff97ad20-ae4a-4c25-a4e9-760183559675",
   "metadata": {
    "pycharm": {
     "name": "#%%\n"
    }
   },
   "outputs": [],
   "source": [
    "# BLOK 5\n",
    "# Najdenie optimalnych hodnot hyper-parametrov pre model, vypis najlepsieho modelu\n",
    "\n",
    "pipe_knn = Pipeline([('reg', MultiOutputRegressor(KNeighborsRegressor()))])\n",
    "grid_param_knn = {\n",
    "    \"reg__estimator__n_neighbors\": range(2, 7),\n",
    "    \"reg__estimator__metric\": [\"cosine\", \"euclidean\", \"l1\"]\n",
    "}\n",
    "gs_knn = (GridSearchCV(estimator=pipe_knn, \n",
    "                      param_grid=grid_param_knn, \n",
    "                      ))\n",
    "gs_knn = gs_knn.fit(X_train,y_train)\n",
    "best_params = gs_knn.best_params_  \n",
    "best_params"
   ]
  },
  {
   "cell_type": "code",
   "execution_count": 6,
   "id": "447271b4-703f-4b58-a046-e24efa4e3d93",
   "metadata": {
    "pycharm": {
     "name": "#%%\n"
    }
   },
   "outputs": [],
   "source": [
    "best_params = {'reg__estimator__metric': 'cosine', 'reg__estimator__n_neighbors': 4}"
   ]
  },
  {
   "cell_type": "code",
   "execution_count": 7,
   "id": "cc5f9bbb-a3cf-486a-9cee-853284aa17fa",
   "metadata": {
    "pycharm": {
     "name": "#%%\n"
    }
   },
   "outputs": [
    {
     "data": {
      "text/plain": [
       "{'algorithm': 'auto',\n",
       " 'leaf_size': 30,\n",
       " 'metric': 'cosine',\n",
       " 'metric_params': None,\n",
       " 'n_jobs': None,\n",
       " 'n_neighbors': 4,\n",
       " 'p': 2,\n",
       " 'weights': 'distance'}"
      ]
     },
     "execution_count": 7,
     "metadata": {},
     "output_type": "execute_result"
    }
   ],
   "source": [
    "# BLOK 6\n",
    "# Vytvorenie architektury modelu. Spustenie trenovania na trenovacej mnozine. Vypis architektury modelu\n",
    "\n",
    "knn_model = KNeighborsRegressor(n_neighbors=best_params['reg__estimator__n_neighbors'],\n",
    "                                metric=best_params['reg__estimator__metric'], \n",
    "                                weights='distance')\n",
    "knn_model.fit(X_train, y_train)\n",
    "\n",
    "knn_model.get_params()"
   ]
  },
  {
   "cell_type": "code",
   "execution_count": 8,
   "id": "f16e1fbb-d8da-4193-bcac-36272a09808b",
   "metadata": {
    "pycharm": {
     "name": "#%%\n"
    }
   },
   "outputs": [
    {
     "data": {
      "text/html": [
       "<div>\n",
       "<style scoped>\n",
       "    .dataframe tbody tr th:only-of-type {\n",
       "        vertical-align: middle;\n",
       "    }\n",
       "\n",
       "    .dataframe tbody tr th {\n",
       "        vertical-align: top;\n",
       "    }\n",
       "\n",
       "    .dataframe thead th {\n",
       "        text-align: right;\n",
       "    }\n",
       "</style>\n",
       "<table border=\"1\" class=\"dataframe\">\n",
       "  <thead>\n",
       "    <tr style=\"text-align: right;\">\n",
       "      <th></th>\n",
       "      <th>T2/T1</th>\n",
       "      <th>Inc</th>\n",
       "      <th>mass_ratio</th>\n",
       "      <th>PSP</th>\n",
       "      <th>SSP</th>\n",
       "    </tr>\n",
       "  </thead>\n",
       "  <tbody>\n",
       "    <tr>\n",
       "      <th>0</th>\n",
       "      <td>0.439903</td>\n",
       "      <td>1.260368</td>\n",
       "      <td>3.228042</td>\n",
       "      <td>12.583271</td>\n",
       "      <td>13.768857</td>\n",
       "    </tr>\n",
       "    <tr>\n",
       "      <th>1</th>\n",
       "      <td>0.662404</td>\n",
       "      <td>1.258459</td>\n",
       "      <td>2.578563</td>\n",
       "      <td>10.895826</td>\n",
       "      <td>8.336098</td>\n",
       "    </tr>\n",
       "    <tr>\n",
       "      <th>2</th>\n",
       "      <td>0.755419</td>\n",
       "      <td>1.414649</td>\n",
       "      <td>3.270300</td>\n",
       "      <td>9.311629</td>\n",
       "      <td>10.969059</td>\n",
       "    </tr>\n",
       "    <tr>\n",
       "      <th>3</th>\n",
       "      <td>0.553959</td>\n",
       "      <td>1.370343</td>\n",
       "      <td>2.695150</td>\n",
       "      <td>11.744353</td>\n",
       "      <td>9.652769</td>\n",
       "    </tr>\n",
       "    <tr>\n",
       "      <th>4</th>\n",
       "      <td>0.527975</td>\n",
       "      <td>1.526631</td>\n",
       "      <td>1.251499</td>\n",
       "      <td>6.249356</td>\n",
       "      <td>9.727266</td>\n",
       "    </tr>\n",
       "  </tbody>\n",
       "</table>\n",
       "</div>"
      ],
      "text/plain": [
       "      T2/T1       Inc  mass_ratio        PSP        SSP\n",
       "0  0.439903  1.260368    3.228042  12.583271  13.768857\n",
       "1  0.662404  1.258459    2.578563  10.895826   8.336098\n",
       "2  0.755419  1.414649    3.270300   9.311629  10.969059\n",
       "3  0.553959  1.370343    2.695150  11.744353   9.652769\n",
       "4  0.527975  1.526631    1.251499   6.249356   9.727266"
      ]
     },
     "execution_count": 8,
     "metadata": {},
     "output_type": "execute_result"
    }
   ],
   "source": [
    "# BLOK 7\n",
    "# Predikcia a vytvorenie dataframu z predikovanych hodnot\n",
    "\n",
    "y_pred = knn_model.predict(X_test)\n",
    "\n",
    "df_y_pred = pd.DataFrame(y_pred, columns=[\"T2/T1\", \"Inc\", \"mass_ratio\", \"PSP\", \"SSP\"])\n",
    "df_y_pred.head()"
   ]
  },
  {
   "cell_type": "code",
   "execution_count": 9,
   "id": "88c9b1b9-1121-4ec9-a533-718a32a7711c",
   "metadata": {
    "pycharm": {
     "name": "#%%\n"
    }
   },
   "outputs": [
    {
     "name": "stdout",
     "output_type": "stream",
     "text": [
      "MSE T2/T1: 0.03354484416551359 MAE T2/T1: 0.14805782885493424 MAPE T2/T1: 47.591555885090685%\n",
      "MSE INC: 0.02035557673809263 MAE INC: 0.11448295445249179 MAPE INC: 8.800371153924537%\n",
      "MSE MASS: 6.703206691184773 MAE MASS: 1.7015482040688799 MAPE MASS: 329.67753670984064%\n",
      "MSE PSP: 606.9149872260191 MAE PSP: 13.787857468691096 MAPE PSP: 195.91913519329088%\n",
      "MSE SSP: 899.8656250905367 MAE SSP: 13.822134756947449 MAPE SSP: 128.16381874204598%\n"
     ]
    }
   ],
   "source": [
    "# BLOK 8 \n",
    "# Chybovost pri predikcii pre kazdy parameter zvlast na testovacich krivkach\n",
    "\n",
    "mse_t = mean_squared_error(y_test[\"t2/t1\"], df_y_pred['T2/T1'])\n",
    "mape_t = mean_absolute_percentage_error(y_test[\"t2/t1\"], df_y_pred['T2/T1'])\n",
    "mae_t = mean_absolute_error(y_test[\"t2/t1\"], df_y_pred['T2/T1'])\n",
    "\n",
    "mse_inc = mean_squared_error(y_test[\"inclination\"], df_y_pred['Inc'])\n",
    "mape_inc = mean_absolute_percentage_error(y_test[\"inclination\"], df_y_pred['Inc'])\n",
    "mae_inc = mean_absolute_error(y_test[\"inclination\"], df_y_pred['Inc'])\n",
    "\n",
    "mse_mass = mean_squared_error(y_test[\"mass_ratio\"], df_y_pred['mass_ratio'])\n",
    "mape_mass = mean_absolute_percentage_error(y_test[\"mass_ratio\"], df_y_pred['mass_ratio'])\n",
    "mae_mass = mean_absolute_error(y_test[\"mass_ratio\"], df_y_pred['mass_ratio'])\n",
    "\n",
    "mse_psp = mean_squared_error(y_test[\"primary__surface_potential\"], df_y_pred['PSP'])\n",
    "mape_psp = mean_absolute_percentage_error(y_test[\"primary__surface_potential\"], df_y_pred['PSP'])\n",
    "mae_psp = mean_absolute_error(y_test[\"primary__surface_potential\"], df_y_pred['PSP'])\n",
    "\n",
    "mse_ssp = mean_squared_error(y_test[\"secondary__surface_potential\"], df_y_pred['SSP'])\n",
    "mape_ssp = mean_absolute_percentage_error(y_test[\"secondary__surface_potential\"], df_y_pred['SSP'])\n",
    "mae_ssp = mean_absolute_error(y_test[\"secondary__surface_potential\"], df_y_pred['SSP'])\n",
    "\n",
    "print(\"MSE T2/T1: \" + str(mse_t) + \" MAE T2/T1: \" + str(mae_t) + \" MAPE T2/T1: \" + str(mape_t * 100) + \"%\")\n",
    "print(\"MSE INC: \" + str(mse_inc) + \" MAE INC: \" + str(mae_inc) + \" MAPE INC: \" + str(mape_inc * 100) + \"%\")\n",
    "print(\"MSE MASS: \" + str(mse_mass) + \" MAE MASS: \" + str(mae_mass) + \" MAPE MASS: \" + str(mape_mass * 100) + \"%\")\n",
    "print(\"MSE PSP: \" + str(mse_psp) + \" MAE PSP: \" + str(mae_psp) + \" MAPE PSP: \" + str(mape_psp * 100) + \"%\")\n",
    "print(\"MSE SSP: \" + str(mse_ssp) + \" MAE SSP: \" + str(mae_ssp) + \" MAPE SSP: \" + str(mape_ssp * 100) + \"%\")"
   ]
  },
  {
   "cell_type": "code",
   "execution_count": 53,
   "id": "4bd154ab-1b23-449d-8d3e-654e6f3c8ecc",
   "metadata": {
    "pycharm": {
     "name": "#%%\n"
    }
   },
   "outputs": [],
   "source": [
    "# BLOK 9\n",
    "# ulozenie modelu\n",
    "\n",
    "os.makedirs(os.path.dirname(\"models/knn_detached_model.pkl\"), exist_ok=True)\n",
    "pickle.dump(knn_model, open(\"models/knn_detached_model.pkl\", 'wb'))"
   ]
  },
  {
   "cell_type": "code",
   "execution_count": null,
   "id": "13a75e7f-6767-4429-aeab-0fc1e00cdd3c",
   "metadata": {
    "pycharm": {
     "name": "#%%\n"
    }
   },
   "outputs": [],
   "source": []
  }
 ],
 "metadata": {
  "kernelspec": {
   "display_name": "Python 3 (ipykernel)",
   "language": "python",
   "name": "python3"
  },
  "language_info": {
   "codemirror_mode": {
    "name": "ipython",
    "version": 3
   },
   "file_extension": ".py",
   "mimetype": "text/x-python",
   "name": "python",
   "nbconvert_exporter": "python",
   "pygments_lexer": "ipython3",
   "version": "3.10.6"
  }
 },
 "nbformat": 4,
 "nbformat_minor": 5
}