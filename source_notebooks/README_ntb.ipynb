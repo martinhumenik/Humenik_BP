{
 "cells": [
  {
   "cell_type": "markdown",
   "source": [
    "# Analýza dát z oblasti zákrytových premenných hviezd\n",
    "## Martin Humeník - Bakalárska práca\n",
    "### Hospodárska informatika, KKUI, FEI TUKE 2023"
   ],
   "metadata": {
    "collapsed": false,
    "pycharm": {
     "name": "#%% md\n"
    }
   }
  },
  {
   "cell_type": "markdown",
   "source": [
    "## Datasety\n",
    "\n",
    "Vytvorenie datasetov:\n",
    "\n",
    "* Pre oddelené systémy: detached_curves.pkl, detached_curves_samples_knn.pkl, detached_curves_samples_svr.pkl - súbor [**data_detached_curves_loading.ipynb**](data_detached_curves_loading.ipynb)\n",
    "* Pre dotykové systémy: overcontact_curves.pkl, overcontact_curves_samples_knn.pkl, overcontact_curves_samples_svr.pkl - súbor [**data_overcontact_curves_loading.ipynb**](data_overcontact_curves_loading.ipynb)\n",
    "* Pre observačné dáta: observed.csv - súbor [**data_observed.ipynb**](data_observed.ipynb)\n",
    "* Pôvodné dáta observačných kriviek - všetky súbory v priečinku [**krivky**](krivky)\n",
    "\n",
    "* [Link](https://mega.nz/file/sGUQ3QgY#C1o3SEF2Icycf-dQfzHwj1cwjx1n9Sl9FO5Km5gEu-Q) pre stiahnutie súboru **detached_curves.pkl**\n",
    "* [Link](https://mega.nz/file/AC8QxBrY#wWzDR-50neomCTYyusG-va5f3L62QfMsdqo43UJ80uY) pre stiahnutie súboru **detached_curves_samples_knn.pkl**\n",
    "* [Link](https://mega.nz/file/UT8FFS5Y#v5UWzyBB2U0H5Gske4UuHNQbp6Ndsnx8kNSigt59mFs) pre stiahnutie súboru **detached_curves_samples_svr.pkl**\n",
    "* Súbor **overcontact_curves.pkl** dostupný na\n",
    "* [Link](https://mega.nz/file/EfkSgbYZ#1NbrIE0_bWP79l6SBERTyz40v9YX5QAI0yl2MkIDE5w) pre stiahnutie súboru **overcontact_curves_samples_knn.pkl**\n",
    "* [Link](https://mega.nz/file/AC1GCRoS#4idS-JgYjv9fVZ3fe3vWPIrjFQHIuMvCxuBX9JexSSQ) pre stiahnutie súboru **overcontact_curves_samples_svr.pkl**"
   ],
   "metadata": {
    "collapsed": false,
    "pycharm": {
     "name": "#%% md\n"
    }
   }
  },
  {
   "cell_type": "markdown",
   "source": [
    "## Zobrazenie svetelných kriviek\n",
    "\n",
    "Vizualizácia syntetických a observačných svetelných kriviek\n",
    "1. súbor [**data_visualization.ipynb**](data_visualization.ipynb)"
   ],
   "metadata": {
    "collapsed": false,
    "pycharm": {
     "name": "#%% md\n"
    }
   }
  },
  {
   "cell_type": "markdown",
   "source": [
    "## Predikcie fyzikálnych parametrov binárnych systémov\n",
    "Trénovanie, validácia a testovanie modelov, uloženie vytvorených modelov.\n",
    "\n",
    "Modelovanie metódou k-NN:\n",
    "* Predikcia vybraných fyzikálnych parametrov syntetických oddelených systémov - súbor [**knn_prediction_detached_synthetic.ipynb**](knn_prediction_detached_synthetic.ipynb)\n",
    "* Predikcia vybraných fyzikálnych parametrov syntetických dotykových systémov - súbor [**knn_prediction_overcontact_synthetic.ipynb**](knn_prediction_overcontact_synthetic.ipynb)\n",
    "* Predikcia vybraných fyzikálnych parametrov observačných oddelených systémov, vizualizácia výsledkov - súbor [**knn_prediction_detached_observed.ipynb**](knn_prediction_detached_observed.ipynb)\n",
    "* Predikcia vybraných fyzikálnych parametrov observačných dotykových systémov, vizualizácia výsledkov - súbor [**knn_prediction_overcontact_observed.ipynb**](knn_prediction_overcontact_observed.ipynb)\n",
    "\n",
    "Modelovanie metódou SVR:\n",
    "* Predikcia vybraných fyzikálnych parametrov syntetických oddelených systémov - súbor [**svr_prediction_detached_synthetic.ipynb**](svr_prediction_detached_synthetic.ipynb)\n",
    "* Predikcia vybraných fyzikálnych parametrov syntetických dotykových systémov - súbor [**svr_prediction_overcontact_synthetic.ipynb**](svr_prediction_overcontact_synthetic.ipynb)\n",
    "* Predikcia vybraných fyzikálnych parametrov observačných oddelených systémov, vizualizácia výsledkov - súbor [**svr_prediction_detached_observed.ipynb**](svr_prediction_detached_observed.ipynb)\n",
    "* Predikcia vybraných fyzikálnych parametrov observačných dotykových systémov, vizualizácia výsledkov - súbor [**svr_prediction_overcontact_observed.ipynb**](svr_prediction_overcontact_observed.ipynb)"
   ],
   "metadata": {
    "collapsed": false,
    "pycharm": {
     "name": "#%% md\n"
    }
   }
  },
  {
   "cell_type": "markdown",
   "source": [
    "## Spracovanie predikovaných hodnôt - observačné svetelné krivky\n",
    "Spojenie predikovaných a skutočných hodnôt fyzikálnych parametrov hodnôt do csv súborov podľa kategórie binárneho systému, a filtra danej svetelnej krivky pre následné vykreslenie svetelných kriviek systémom ELISa\n",
    "\n",
    "* Spracovanie predikovaných a skutočných hodnôt fyzikálnych parametrov- súbor [**process_data_for_plots.ipynb**](process_data_for_plots.ipynb)\n",
    "* Výsledné csv súbory sú v priečinku [**data_to_plot**](data_to_plot) rozdelené podľa použitej metódy"
   ],
   "metadata": {
    "collapsed": false,
    "pycharm": {
     "name": "#%% md\n"
    }
   }
  },
  {
   "cell_type": "markdown",
   "source": [
    "## Modely\n",
    "Modely kontrolovaného učenia k-NN a SVR:\n",
    "\n",
    "* k-NN model pre predikciu fyzikálnych parametrov oddelených systémov trénovaný na svetelných krivkách bez pridaného šumu - súbor [**knn_detached_model.pkl**](knn_detached_model.pkl)\n",
    "* k-NN model pre predikciu fyzikálnych parametrov oddelených systémov trénovaný na svetelných krivkách s pridaným šumom - súbor [**knn_detached_noise_model.pkl**](knn_detached_noise_model.pkl)\n",
    "* k-NN model pre predikciu fyzikálnych parametrov dotykových systémov trénovaný na svetelných krivkách bez pridaného šumu - súbor [**knn_overcontact_model.pkl**](knn_overcontact_model.pkl)\n",
    "* k-NN model pre predikciu fyzikálnych parametrov dotykových systémov trénovaný na svetelných krivkách s pridaným šumom - súbor [**knn_overcontact_noise_model.pkl**](knn_overcontact_noise_model.pkl)\n",
    "\n",
    "* SVR model pre predikciu fyzikálnych parametrov oddelených systémov trénovaný na svetelných krivkách bez pridaného šumu - súbor [**svr_detached_model.pkl**](svr_detached_model.pkl)\n",
    "* SVR model pre predikciu fyzikálnych parametrov oddelených systémov trénovaný na svetelných krivkách s pridaným šumom - súbor [**svr_detached_noise_model.pkl**](svr_detached_noise_model.pkl)\n",
    "* SVR model pre predikciu fyzikálnych parametrov dotykových systémov trénovaný na svetelných krivkách bez pridaného šumu - súbor [**svr_overcontact_model.pkl**](svr_overcontact_model.pkl)\n",
    "* SVR model pre predikciu fyzikálnych parametrov dotykových systémov trénovaný na svetelných krivkách s pridaným šumom - súbor [**svr_overcontact_noise_model.pkl**](svr_overcontact_noise_model.pkl)"
   ],
   "metadata": {
    "collapsed": false,
    "pycharm": {
     "name": "#%% md\n"
    }
   }
  }
 ],
 "metadata": {
  "kernelspec": {
   "display_name": "Python 3 (ipykernel)",
   "language": "python",
   "name": "python3"
  },
  "language_info": {
   "codemirror_mode": {
    "name": "ipython",
    "version": 3
   },
   "file_extension": ".py",
   "mimetype": "text/x-python",
   "name": "python",
   "nbconvert_exporter": "python",
   "pygments_lexer": "ipython3",
   "version": "3.10.6"
  }
 },
 "nbformat": 4,
 "nbformat_minor": 5
}