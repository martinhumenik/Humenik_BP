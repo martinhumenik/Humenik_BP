{
 "cells": [
  {
   "cell_type": "code",
   "execution_count": 1,
   "id": "0d51217e-32c7-4d92-8cea-0f73cde5209a",
   "metadata": {
    "pycharm": {
     "name": "#%%\n"
    }
   },
   "outputs": [],
   "source": [
    "# VYTVORENIE DATASETU observed.csv"
   ]
  },
  {
   "cell_type": "code",
   "execution_count": 1,
   "id": "71d051bd-fac6-4165-ba82-0c1ae627b8ff",
   "metadata": {
    "pycharm": {
     "name": "#%%\n"
    }
   },
   "outputs": [],
   "source": [
    "# BLOK 1\n",
    "# Importovanie kniznic.\n",
    "\n",
    "import os, json\n",
    "import pandas as pd\n",
    "import numpy as np"
   ]
  },
  {
   "cell_type": "code",
   "execution_count": 2,
   "id": "629d7432-3f72-4d86-b6bc-7d7a540f5cf9",
   "metadata": {
    "pycharm": {
     "name": "#%%\n"
    }
   },
   "outputs": [],
   "source": [
    "# BLOK 2\n",
    "# Nacitanie suborov. Vytvorenie prazdnej tabulky.\n",
    "\n",
    "path_to_json = 'krivky'\n",
    "json_files = [pos_json for pos_json in os.listdir(path_to_json) if pos_json.endswith('.json')]\n",
    "df=pd.DataFrame(columns=[\"Q\", \"Inc\", \"Omega1\", \"Omega2\", \"T1\", \"T2\", \"P\", \"Type\", \"Spot\", \"Ref\", \"Name\", \"Filter\", \"Curve\"])"
   ]
  },
  {
   "cell_type": "code",
   "execution_count": 3,
   "id": "de752fb3-eb7d-43fc-a052-91680af5bcf8",
   "metadata": {
    "pycharm": {
     "name": "#%%\n"
    }
   },
   "outputs": [],
   "source": [
    "# BLOK 3\n",
    "# Nacitanie dat do tabulky. Zoradenie dat v tabulke.\n",
    "\n",
    "p=0\n",
    "for index, js in enumerate(json_files):\n",
    "    with open(os.path.join(path_to_json, js)) as json_file:\n",
    "        json_text = json.load(json_file)\n",
    "        n=len(json_text[\"interpolated_light_curves\"])\n",
    "        f=np.array(list(json_text[\"interpolated_light_curves\"].keys()))\n",
    "        for i in range(n-1):\n",
    "            q = json_text[\"system_parameters\"][\"q\"]\n",
    "            inc = json_text[\"system_parameters\"][\"inc\"]\n",
    "            omega1 = json_text[\"system_parameters\"][\"omega1\"]\n",
    "            omega2 = json_text[\"system_parameters\"][\"omega2\"]\n",
    "            T1 = json_text[\"system_parameters\"][\"T1\"]\n",
    "            T2 = json_text[\"system_parameters\"][\"T2\"]\n",
    "            P = json_text[\"system_parameters\"][\"P\"]\n",
    "            Type = json_text[\"system_parameters\"][\"Type\"]\n",
    "            Spot = json_text[\"system_parameters\"][\"Spot\"]\n",
    "            Ref = json_text[\"system_parameters\"][\"Ref\"]\n",
    "            name = js[:-5]\n",
    "            Filter = f[i+1]\n",
    "            curve = json_text[\"interpolated_light_curves\"][Filter]\n",
    "            df.loc[p] = [q, inc, omega1, omega2, max(T1, T2), min(T1, T2), P, Type, Spot, Ref, name, Filter, curve]\n",
    "            p=p+1\n",
    "            \n",
    "df[\"Type\"]=df[\"Type\"].map({\"contact\":\"overcontact\", \"overcontact\":\"overcontact\", \"detached\":\"detached\", \"detected\":\"detached\"})            \n",
    "df=df.sort_values(by=[\"Type\", \"Name\"])"
   ]
  },
  {
   "cell_type": "code",
   "execution_count": 4,
   "id": "ca0adf78-0c9f-413e-81b2-6b74d3f57e71",
   "metadata": {
    "pycharm": {
     "name": "#%%\n"
    }
   },
   "outputs": [
    {
     "data": {
      "text/plain": "               Q        Inc     Omega1     Omega2            T1            T2  \\\ncount  40.000000  40.000000  40.000000  40.000000     40.000000     40.000000   \nmean    0.416475  83.170500   4.359175   3.070900   9534.500000   6418.675000   \nstd     0.268703   3.803218   1.620190   1.666744   5584.027106   5078.932178   \nmin     0.135000  76.300000   2.540000   2.062000   5900.000000   3450.000000   \n25%     0.184000  79.900000   3.181750   2.190000   7400.000000   4478.000000   \n50%     0.352000  83.600000   4.230000   2.580000   8000.000000   4893.000000   \n75%     0.484000  85.800000   4.550000   2.850000   8770.000000   5707.000000   \nmax     1.000000  88.700000   8.550000   8.550000  28000.000000  23640.000000   \n\n               P  \ncount  40.000000  \nmean    1.868477  \nstd     1.386343  \nmin     0.406916  \n25%     0.796455  \n50%     1.548869  \n75%     2.587332  \nmax     5.520188  ",
      "text/html": "<div>\n<style scoped>\n    .dataframe tbody tr th:only-of-type {\n        vertical-align: middle;\n    }\n\n    .dataframe tbody tr th {\n        vertical-align: top;\n    }\n\n    .dataframe thead th {\n        text-align: right;\n    }\n</style>\n<table border=\"1\" class=\"dataframe\">\n  <thead>\n    <tr style=\"text-align: right;\">\n      <th></th>\n      <th>Q</th>\n      <th>Inc</th>\n      <th>Omega1</th>\n      <th>Omega2</th>\n      <th>T1</th>\n      <th>T2</th>\n      <th>P</th>\n    </tr>\n  </thead>\n  <tbody>\n    <tr>\n      <th>count</th>\n      <td>40.000000</td>\n      <td>40.000000</td>\n      <td>40.000000</td>\n      <td>40.000000</td>\n      <td>40.000000</td>\n      <td>40.000000</td>\n      <td>40.000000</td>\n    </tr>\n    <tr>\n      <th>mean</th>\n      <td>0.416475</td>\n      <td>83.170500</td>\n      <td>4.359175</td>\n      <td>3.070900</td>\n      <td>9534.500000</td>\n      <td>6418.675000</td>\n      <td>1.868477</td>\n    </tr>\n    <tr>\n      <th>std</th>\n      <td>0.268703</td>\n      <td>3.803218</td>\n      <td>1.620190</td>\n      <td>1.666744</td>\n      <td>5584.027106</td>\n      <td>5078.932178</td>\n      <td>1.386343</td>\n    </tr>\n    <tr>\n      <th>min</th>\n      <td>0.135000</td>\n      <td>76.300000</td>\n      <td>2.540000</td>\n      <td>2.062000</td>\n      <td>5900.000000</td>\n      <td>3450.000000</td>\n      <td>0.406916</td>\n    </tr>\n    <tr>\n      <th>25%</th>\n      <td>0.184000</td>\n      <td>79.900000</td>\n      <td>3.181750</td>\n      <td>2.190000</td>\n      <td>7400.000000</td>\n      <td>4478.000000</td>\n      <td>0.796455</td>\n    </tr>\n    <tr>\n      <th>50%</th>\n      <td>0.352000</td>\n      <td>83.600000</td>\n      <td>4.230000</td>\n      <td>2.580000</td>\n      <td>8000.000000</td>\n      <td>4893.000000</td>\n      <td>1.548869</td>\n    </tr>\n    <tr>\n      <th>75%</th>\n      <td>0.484000</td>\n      <td>85.800000</td>\n      <td>4.550000</td>\n      <td>2.850000</td>\n      <td>8770.000000</td>\n      <td>5707.000000</td>\n      <td>2.587332</td>\n    </tr>\n    <tr>\n      <th>max</th>\n      <td>1.000000</td>\n      <td>88.700000</td>\n      <td>8.550000</td>\n      <td>8.550000</td>\n      <td>28000.000000</td>\n      <td>23640.000000</td>\n      <td>5.520188</td>\n    </tr>\n  </tbody>\n</table>\n</div>"
     },
     "execution_count": 4,
     "metadata": {},
     "output_type": "execute_result"
    }
   ],
   "source": [
    "# Vypisanie statistickych informacii o oddelenych systemoch\n",
    "\n",
    "df.loc[df.Type.isin(['detached'])].describe()"
   ]
  },
  {
   "cell_type": "code",
   "execution_count": 5,
   "id": "c1e49ea5-5cc0-47ce-b7fc-ee5761c5d044",
   "metadata": {
    "pycharm": {
     "name": "#%%\n"
    }
   },
   "outputs": [
    {
     "name": "stdout",
     "output_type": "stream",
     "text": [
      "----------detached----------\n",
      "Filter: V     count: 14\n",
      "Filter: B     count: 12\n",
      "Filter: R     count: 10\n",
      "Filter: I     count: 4\n"
     ]
    }
   ],
   "source": [
    "# Vypisanie poctu kriviek pre dany filter pre oddelene systemy\n",
    "print('----------detached----------')\n",
    "for key, value in dict(df.loc[df.Type.isin(['detached'])]['Filter'].value_counts()).items():\n",
    "    print('Filter: ' + key + '     count: ' + str(value))"
   ]
  },
  {
   "cell_type": "code",
   "execution_count": 6,
   "id": "50f93ac6-c711-4d10-bc48-b13d1adc1665",
   "metadata": {
    "pycharm": {
     "name": "#%%\n"
    }
   },
   "outputs": [
    {
     "data": {
      "text/plain": "               Q        Inc     Omega1     Omega2           T1           T2  \\\ncount  46.000000  46.000000  46.000000  46.000000    46.000000    46.000000   \nmean    0.642152  76.751087   2.945478   2.945087  6191.913043  5857.413043   \nstd     0.847369   9.379962   1.309041   1.309178   639.928914   677.966947   \nmin     0.169000  54.740000   2.080000   2.080000  4908.000000  4634.000000   \n25%     0.250000  70.900000   2.317000   2.317000  5776.500000  5536.000000   \n50%     0.290000  80.050000   2.396000   2.396000  6280.000000  6141.000000   \n75%     0.470000  83.300000   2.783000   2.783000  6500.000000  6250.000000   \nmax     2.932000  86.200000   6.397000   6.397000  7000.000000  6750.000000   \n\n               P  \ncount  46.000000  \nmean    0.408642  \nstd     0.101349  \nmin     0.234728  \n25%     0.375307  \n50%     0.405892  \n75%     0.456274  \nmax     0.597423  ",
      "text/html": "<div>\n<style scoped>\n    .dataframe tbody tr th:only-of-type {\n        vertical-align: middle;\n    }\n\n    .dataframe tbody tr th {\n        vertical-align: top;\n    }\n\n    .dataframe thead th {\n        text-align: right;\n    }\n</style>\n<table border=\"1\" class=\"dataframe\">\n  <thead>\n    <tr style=\"text-align: right;\">\n      <th></th>\n      <th>Q</th>\n      <th>Inc</th>\n      <th>Omega1</th>\n      <th>Omega2</th>\n      <th>T1</th>\n      <th>T2</th>\n      <th>P</th>\n    </tr>\n  </thead>\n  <tbody>\n    <tr>\n      <th>count</th>\n      <td>46.000000</td>\n      <td>46.000000</td>\n      <td>46.000000</td>\n      <td>46.000000</td>\n      <td>46.000000</td>\n      <td>46.000000</td>\n      <td>46.000000</td>\n    </tr>\n    <tr>\n      <th>mean</th>\n      <td>0.642152</td>\n      <td>76.751087</td>\n      <td>2.945478</td>\n      <td>2.945087</td>\n      <td>6191.913043</td>\n      <td>5857.413043</td>\n      <td>0.408642</td>\n    </tr>\n    <tr>\n      <th>std</th>\n      <td>0.847369</td>\n      <td>9.379962</td>\n      <td>1.309041</td>\n      <td>1.309178</td>\n      <td>639.928914</td>\n      <td>677.966947</td>\n      <td>0.101349</td>\n    </tr>\n    <tr>\n      <th>min</th>\n      <td>0.169000</td>\n      <td>54.740000</td>\n      <td>2.080000</td>\n      <td>2.080000</td>\n      <td>4908.000000</td>\n      <td>4634.000000</td>\n      <td>0.234728</td>\n    </tr>\n    <tr>\n      <th>25%</th>\n      <td>0.250000</td>\n      <td>70.900000</td>\n      <td>2.317000</td>\n      <td>2.317000</td>\n      <td>5776.500000</td>\n      <td>5536.000000</td>\n      <td>0.375307</td>\n    </tr>\n    <tr>\n      <th>50%</th>\n      <td>0.290000</td>\n      <td>80.050000</td>\n      <td>2.396000</td>\n      <td>2.396000</td>\n      <td>6280.000000</td>\n      <td>6141.000000</td>\n      <td>0.405892</td>\n    </tr>\n    <tr>\n      <th>75%</th>\n      <td>0.470000</td>\n      <td>83.300000</td>\n      <td>2.783000</td>\n      <td>2.783000</td>\n      <td>6500.000000</td>\n      <td>6250.000000</td>\n      <td>0.456274</td>\n    </tr>\n    <tr>\n      <th>max</th>\n      <td>2.932000</td>\n      <td>86.200000</td>\n      <td>6.397000</td>\n      <td>6.397000</td>\n      <td>7000.000000</td>\n      <td>6750.000000</td>\n      <td>0.597423</td>\n    </tr>\n  </tbody>\n</table>\n</div>"
     },
     "execution_count": 6,
     "metadata": {},
     "output_type": "execute_result"
    }
   ],
   "source": [
    "# Vypisanie statistickych informacii o dotykovych systemoch\n",
    "\n",
    "\n",
    "df.loc[df.Type.isin(['overcontact'])].describe()"
   ]
  },
  {
   "cell_type": "code",
   "execution_count": 7,
   "id": "c723d743-817d-4fef-8e84-22455ec7f29e",
   "metadata": {
    "pycharm": {
     "name": "#%%\n"
    }
   },
   "outputs": [
    {
     "name": "stdout",
     "output_type": "stream",
     "text": [
      "----------overcontact----------\n",
      "Filter: V     count: 15\n",
      "Filter: B     count: 12\n",
      "Filter: R     count: 12\n",
      "Filter: I     count: 7\n"
     ]
    }
   ],
   "source": [
    "# Vypisanie poctu kriviek pre dany filter pre dotykove systemy\n",
    "\n",
    "print('----------overcontact----------')\n",
    "for key, value in dict(df.loc[df.Type.isin(['overcontact'])]['Filter'].value_counts()).items():\n",
    "    print('Filter: ' + key + '     count: ' + str(value))"
   ]
  },
  {
   "cell_type": "code",
   "execution_count": 26,
   "id": "0d4b971f-311b-43ba-9335-0b789bc266ec",
   "metadata": {
    "pycharm": {
     "name": "#%%\n"
    }
   },
   "outputs": [],
   "source": [
    "# BLOK 4\n",
    "# Ulozenie dat v podobe tabulky do suboru .csv.\n",
    "\n",
    "df.to_csv(\"observed.csv\")"
   ]
  },
  {
   "cell_type": "code",
   "execution_count": null,
   "id": "7a9f3f17-6d21-4be4-894b-16d30eb289d1",
   "metadata": {
    "pycharm": {
     "name": "#%%\n"
    }
   },
   "outputs": [],
   "source": []
  }
 ],
 "metadata": {
  "kernelspec": {
   "display_name": "Python 3 (ipykernel)",
   "language": "python",
   "name": "python3"
  },
  "language_info": {
   "codemirror_mode": {
    "name": "ipython",
    "version": 3
   },
   "file_extension": ".py",
   "mimetype": "text/x-python",
   "name": "python",
   "nbconvert_exporter": "python",
   "pygments_lexer": "ipython3",
   "version": "3.10.6"
  }
 },
 "nbformat": 4,
 "nbformat_minor": 5
}