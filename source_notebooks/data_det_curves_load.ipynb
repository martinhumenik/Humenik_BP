{
 "cells": [
  {
   "cell_type": "code",
   "execution_count": 1,
   "id": "d9a3ea35-8c91-43c1-83af-ee07aea26268",
   "metadata": {
    "pycharm": {
     "name": "#%%\n"
    }
   },
   "outputs": [],
   "source": [
    "# VYTVORENIE DATASETOV detached_curves.pkl, detached_curves_samples_knn.pkl, detached_curves_samples_svr.pkl"
   ]
  },
  {
   "cell_type": "code",
   "execution_count": 3,
   "id": "66cf9bee-2069-4538-ae50-0dd3ee9e3cb8",
   "metadata": {
    "pycharm": {
     "name": "#%%\n"
    }
   },
   "outputs": [],
   "source": [
    "# BLOK 1\n",
    "# Importovanie kniznic.\n",
    "\n",
    "import numpy as np\n",
    "import pandas as pd\n",
    "import sqlite3\n",
    "import io\n",
    "\n",
    "import random"
   ]
  },
  {
   "cell_type": "code",
   "execution_count": 2,
   "id": "efd988e5-a239-4669-9ace-7cff4097dfbc",
   "metadata": {
    "pycharm": {
     "name": "#%%\n"
    }
   },
   "outputs": [],
   "source": [
    "# BLOK 2\n",
    "# Funkcia pre vyber svetelnej krivky z nespracovanych dat. Zadefinovanie cesty k databaze (subor .db).\n",
    "\n",
    "def get_curve(txt):\n",
    "    out = io.BytesIO(txt)\n",
    "    out.seek(0)\n",
    "    return np.load(out)\n",
    "\n",
    "FILEPATH = '../data-upjs/detached.db'"
   ]
  },
  {
   "cell_type": "code",
   "execution_count": 3,
   "id": "be1e98e6-fd24-4a80-9dda-ead72ad09bd2",
   "metadata": {
    "pycharm": {
     "name": "#%%\n"
    }
   },
   "outputs": [
    {
     "name": "stdout",
     "output_type": "stream",
     "text": [
      "[('parameters',), ('curves',), ('auxiliary',)]\n"
     ]
    }
   ],
   "source": [
    "# BLOK 3 \n",
    "# Vytvorenie pripojenia na subor. Vypis vsetkych tabuliek v databaze.\n",
    "\n",
    "conn = sqlite3.connect(FILEPATH)\n",
    "\n",
    "sql_query = \"\"\"SELECT name FROM sqlite_master WHERE type='table';\"\"\"\n",
    "cursor = conn.cursor()\n",
    "cursor.execute(sql_query)\n",
    "print(cursor.fetchall())"
   ]
  },
  {
   "cell_type": "code",
   "execution_count": 23,
   "id": "ffefcf49-b6bd-4279-9945-3262e5e0c6ce",
   "metadata": {
    "pycharm": {
     "name": "#%%\n"
    }
   },
   "outputs": [],
   "source": [
    "# BLOK 4\n",
    "# Nacitanie parametrov.\n",
    "\n",
    "df_parameters = pd.read_sql_query(\"SELECT id, mass_ratio, primary__surface_potential, secondary__surface_potential, primary__t_eff, secondary__t_eff, inclination FROM parameters\", conn)"
   ]
  },
  {
   "cell_type": "code",
   "execution_count": null,
   "id": "d28a5f1d-27da-43c6-93f0-88f8578cdaa1",
   "metadata": {
    "pycharm": {
     "name": "#%%\n"
    }
   },
   "outputs": [],
   "source": [
    "# BLOK 5\n",
    "# Nacitanie id kriviek po castiach, ulozenie id do dataframu, vyber nahodnej vzorky v pocte 100 000\n",
    "ids = []  \n",
    "for chunk in pd.read_sql(\"SELECT id FROM curves\", conn, chunksize=10000):\n",
    "    ids.append(chunk)\n",
    "    \n",
    "df_ids = pd.DataFrame()\n",
    "df_ids = pd.concat(ids, ignore_index=True)\n",
    "\n",
    "ids_sample = random.sample(list(df_ids['id']), 100000)"
   ]
  },
  {
   "cell_type": "code",
   "execution_count": 17,
   "id": "1fba1305-2f50-492a-b86d-3d7b00b436f0",
   "metadata": {
    "pycharm": {
     "name": "#%%\n"
    }
   },
   "outputs": [],
   "source": [
    "# BLOK 6\n",
    "# Nacitanie konkretnych svetelnych kriviek pomocou id\n",
    "curves_from_db = []\n",
    "for id in ids_sample:\n",
    "    curves_from_db.append(pd.read_sql_query(f\"SELECT * FROM curves WHERE id = {id}\", conn))\n",
    "    \n",
    "df_curves = pd.DataFrame()\n",
    "df_curves = pd.concat(curves_from_db, ignore_index=True)"
   ]
  },
  {
   "cell_type": "code",
   "execution_count": 24,
   "id": "aef243b8-e57a-4938-a214-42980817abac",
   "metadata": {
    "pycharm": {
     "name": "#%%\n"
    }
   },
   "outputs": [],
   "source": [
    "# BLOK 7\n",
    "# Vytvorenie tabulky. Jeden riadok = jeden system zakrytovych premennych hviezd v 13 filtroch.\n",
    "\n",
    "df1=df_parameters[[\"id\",\"primary__t_eff\", \"secondary__t_eff\", \"mass_ratio\", \"primary__surface_potential\",\n",
    "                     \"secondary__surface_potential\", \"inclination\"]]\n",
    "df2=df_curves[[\"id\", \"Bessell_U\", \"Bessell_B\", \"Bessell_V\", \"Bessell_R\", \"Bessell_I\", \"SLOAN_u\", \"SLOAN_g\", \"SLOAN_r\", \"SLOAN_i\", \"SLOAN_z\", \"Kepler\", \"GaiaDR2\", \"TESS\"]]\n",
    "\n",
    "df_merged = pd.merge(df1,df2,on=\"id\")\n",
    "df_merged[\"Bessell_U\"] = df_merged[\"Bessell_U\"].apply(get_curve)\n",
    "df_merged[\"Bessell_V\"] = df_merged[\"Bessell_V\"].apply(get_curve)\n",
    "df_merged[\"Bessell_R\"] = df_merged[\"Bessell_R\"].apply(get_curve)\n",
    "df_merged[\"Bessell_I\"] = df_merged[\"Bessell_I\"].apply(get_curve)\n",
    "df_merged[\"Bessell_B\"] = df_merged[\"Bessell_B\"].apply(get_curve)\n",
    "df_merged[\"SLOAN_u\"] = df_merged[\"SLOAN_u\"].apply(get_curve)\n",
    "df_merged[\"SLOAN_g\"] = df_merged[\"SLOAN_g\"].apply(get_curve)\n",
    "df_merged[\"SLOAN_r\"] = df_merged[\"SLOAN_r\"].apply(get_curve)\n",
    "df_merged[\"SLOAN_i\"] = df_merged[\"SLOAN_i\"].apply(get_curve)\n",
    "df_merged[\"SLOAN_z\"] = df_merged[\"SLOAN_z\"].apply(get_curve)\n",
    "df_merged[\"Kepler\"] = df_merged[\"Kepler\"].apply(get_curve)\n",
    "df_merged[\"GaiaDR2\"] = df_merged[\"GaiaDR2\"].apply(get_curve)\n",
    "df_merged[\"TESS\"] = df_merged[\"TESS\"].apply(get_curve)"
   ]
  },
  {
   "cell_type": "code",
   "execution_count": 25,
   "id": "eaff7fd9-f602-419a-a291-71b167054b2e",
   "metadata": {
    "pycharm": {
     "name": "#%%\n"
    }
   },
   "outputs": [
    {
     "data": {
      "text/html": [
       "<div>\n",
       "<style scoped>\n",
       "    .dataframe tbody tr th:only-of-type {\n",
       "        vertical-align: middle;\n",
       "    }\n",
       "\n",
       "    .dataframe tbody tr th {\n",
       "        vertical-align: top;\n",
       "    }\n",
       "\n",
       "    .dataframe thead th {\n",
       "        text-align: right;\n",
       "    }\n",
       "</style>\n",
       "<table border=\"1\" class=\"dataframe\">\n",
       "  <thead>\n",
       "    <tr style=\"text-align: right;\">\n",
       "      <th></th>\n",
       "      <th>id</th>\n",
       "      <th>primary__t_eff</th>\n",
       "      <th>secondary__t_eff</th>\n",
       "      <th>inclination</th>\n",
       "      <th>mass_ratio</th>\n",
       "      <th>primary__surface_potential</th>\n",
       "      <th>secondary__surface_potential</th>\n",
       "    </tr>\n",
       "  </thead>\n",
       "  <tbody>\n",
       "    <tr>\n",
       "      <th>count</th>\n",
       "      <td>1.300000e+06</td>\n",
       "      <td>1.300000e+06</td>\n",
       "      <td>1.300000e+06</td>\n",
       "      <td>1.300000e+06</td>\n",
       "      <td>1.300000e+06</td>\n",
       "      <td>1.300000e+06</td>\n",
       "      <td>1.300000e+06</td>\n",
       "    </tr>\n",
       "    <tr>\n",
       "      <th>mean</th>\n",
       "      <td>9.642836e+06</td>\n",
       "      <td>2.234418e+04</td>\n",
       "      <td>1.015223e+04</td>\n",
       "      <td>1.375013e+00</td>\n",
       "      <td>1.754530e+00</td>\n",
       "      <td>1.796074e+01</td>\n",
       "      <td>1.687004e+01</td>\n",
       "    </tr>\n",
       "    <tr>\n",
       "      <th>std</th>\n",
       "      <td>5.609623e+06</td>\n",
       "      <td>1.162822e+04</td>\n",
       "      <td>6.390062e+03</td>\n",
       "      <td>1.638420e-01</td>\n",
       "      <td>2.155654e+00</td>\n",
       "      <td>2.744355e+01</td>\n",
       "      <td>4.522165e+01</td>\n",
       "    </tr>\n",
       "    <tr>\n",
       "      <th>min</th>\n",
       "      <td>3.000000e+00</td>\n",
       "      <td>4.000000e+03</td>\n",
       "      <td>4.000000e+03</td>\n",
       "      <td>7.377260e-01</td>\n",
       "      <td>1.000000e-01</td>\n",
       "      <td>2.019959e+00</td>\n",
       "      <td>2.039986e+00</td>\n",
       "    </tr>\n",
       "    <tr>\n",
       "      <th>25%</th>\n",
       "      <td>4.691029e+06</td>\n",
       "      <td>1.200000e+04</td>\n",
       "      <td>6.000000e+03</td>\n",
       "      <td>1.267385e+00</td>\n",
       "      <td>6.000000e-01</td>\n",
       "      <td>4.984095e+00</td>\n",
       "      <td>4.380409e+00</td>\n",
       "    </tr>\n",
       "    <tr>\n",
       "      <th>50%</th>\n",
       "      <td>1.003546e+07</td>\n",
       "      <td>2.000000e+04</td>\n",
       "      <td>8.000000e+03</td>\n",
       "      <td>1.413717e+00</td>\n",
       "      <td>1.000000e+00</td>\n",
       "      <td>8.100800e+00</td>\n",
       "      <td>6.897109e+00</td>\n",
       "    </tr>\n",
       "    <tr>\n",
       "      <th>75%</th>\n",
       "      <td>1.439198e+07</td>\n",
       "      <td>3.000000e+04</td>\n",
       "      <td>1.200000e+04</td>\n",
       "      <td>1.509858e+00</td>\n",
       "      <td>2.000000e+00</td>\n",
       "      <td>1.589986e+01</td>\n",
       "      <td>1.329465e+01</td>\n",
       "    </tr>\n",
       "    <tr>\n",
       "      <th>max</th>\n",
       "      <td>1.862873e+07</td>\n",
       "      <td>4.500000e+04</td>\n",
       "      <td>4.500000e+04</td>\n",
       "      <td>1.570796e+00</td>\n",
       "      <td>1.000000e+01</td>\n",
       "      <td>1.100001e+02</td>\n",
       "      <td>9.965005e+02</td>\n",
       "    </tr>\n",
       "  </tbody>\n",
       "</table>\n",
       "</div>"
      ],
      "text/plain": [
       "                 id  primary__t_eff  secondary__t_eff   inclination  \\\n",
       "count  1.300000e+06    1.300000e+06      1.300000e+06  1.300000e+06   \n",
       "mean   9.642836e+06    2.234418e+04      1.015223e+04  1.375013e+00   \n",
       "std    5.609623e+06    1.162822e+04      6.390062e+03  1.638420e-01   \n",
       "min    3.000000e+00    4.000000e+03      4.000000e+03  7.377260e-01   \n",
       "25%    4.691029e+06    1.200000e+04      6.000000e+03  1.267385e+00   \n",
       "50%    1.003546e+07    2.000000e+04      8.000000e+03  1.413717e+00   \n",
       "75%    1.439198e+07    3.000000e+04      1.200000e+04  1.509858e+00   \n",
       "max    1.862873e+07    4.500000e+04      4.500000e+04  1.570796e+00   \n",
       "\n",
       "         mass_ratio  primary__surface_potential  secondary__surface_potential  \n",
       "count  1.300000e+06                1.300000e+06                  1.300000e+06  \n",
       "mean   1.754530e+00                1.796074e+01                  1.687004e+01  \n",
       "std    2.155654e+00                2.744355e+01                  4.522165e+01  \n",
       "min    1.000000e-01                2.019959e+00                  2.039986e+00  \n",
       "25%    6.000000e-01                4.984095e+00                  4.380409e+00  \n",
       "50%    1.000000e+00                8.100800e+00                  6.897109e+00  \n",
       "75%    2.000000e+00                1.589986e+01                  1.329465e+01  \n",
       "max    1.000000e+01                1.100001e+02                  9.965005e+02  "
      ]
     },
     "execution_count": 25,
     "metadata": {},
     "output_type": "execute_result"
    }
   ],
   "source": [
    "# BLOK 8\n",
    "# Vytvorenie tabulky. Jeden riadok = jedna svetelna krivka podla jedneho filtra.\n",
    "\n",
    "df_final = pd.melt(df_merged, \n",
    "                   id_vars=[\"id\",\"primary__t_eff\", \"secondary__t_eff\", \"inclination\", \"mass_ratio\", \n",
    "                            \"primary__surface_potential\", \"secondary__surface_potential\"],\n",
    "                   var_name=\"filter\", value_name=\"curve\")\n",
    "df_final.describe()"
   ]
  },
  {
   "cell_type": "code",
   "execution_count": 28,
   "id": "403391f4-f185-4d74-a5b4-6b944961ad49",
   "metadata": {
    "pycharm": {
     "name": "#%%\n"
    }
   },
   "outputs": [],
   "source": [
    "# BLOK 9\n",
    "# Uzavretie pripojenia na databazu. Ulozenie dat v podobe tabulky do suboru .pkl.\n",
    "\n",
    "conn.close()\n",
    "df_final.to_pickle(\"det_curves.pkl\")"
   ]
  },
  {
   "cell_type": "code",
   "execution_count": 35,
   "id": "d2c25762-074a-4a3f-b120-c6a89394e7ec",
   "metadata": {
    "pycharm": {
     "name": "#%%\n"
    }
   },
   "outputs": [
    {
     "data": {
      "text/html": [
       "<div>\n",
       "<style scoped>\n",
       "    .dataframe tbody tr th:only-of-type {\n",
       "        vertical-align: middle;\n",
       "    }\n",
       "\n",
       "    .dataframe tbody tr th {\n",
       "        vertical-align: top;\n",
       "    }\n",
       "\n",
       "    .dataframe thead th {\n",
       "        text-align: right;\n",
       "    }\n",
       "</style>\n",
       "<table border=\"1\" class=\"dataframe\">\n",
       "  <thead>\n",
       "    <tr style=\"text-align: right;\">\n",
       "      <th></th>\n",
       "      <th>id</th>\n",
       "      <th>primary__t_eff</th>\n",
       "      <th>secondary__t_eff</th>\n",
       "      <th>inclination</th>\n",
       "      <th>mass_ratio</th>\n",
       "      <th>primary__surface_potential</th>\n",
       "      <th>secondary__surface_potential</th>\n",
       "      <th>filter</th>\n",
       "      <th>curve</th>\n",
       "    </tr>\n",
       "  </thead>\n",
       "  <tbody>\n",
       "    <tr>\n",
       "      <th>647973</th>\n",
       "      <td>8747576</td>\n",
       "      <td>20000</td>\n",
       "      <td>14000</td>\n",
       "      <td>1.140601</td>\n",
       "      <td>0.5</td>\n",
       "      <td>3.027725</td>\n",
       "      <td>11.250627</td>\n",
       "      <td>SLOAN_g</td>\n",
       "      <td>[0.9046986069364825, 0.9047564022519874, 0.904...</td>\n",
       "    </tr>\n",
       "    <tr>\n",
       "      <th>1109932</th>\n",
       "      <td>2151919</td>\n",
       "      <td>40000</td>\n",
       "      <td>16000</td>\n",
       "      <td>1.570796</td>\n",
       "      <td>0.2</td>\n",
       "      <td>11.315166</td>\n",
       "      <td>5.400252</td>\n",
       "      <td>GaiaDR2</td>\n",
       "      <td>[0.6924966300408725, 0.6934083009571762, 0.696...</td>\n",
       "    </tr>\n",
       "    <tr>\n",
       "      <th>731380</th>\n",
       "      <td>6282803</td>\n",
       "      <td>35000</td>\n",
       "      <td>9000</td>\n",
       "      <td>1.548615</td>\n",
       "      <td>2.5</td>\n",
       "      <td>22.501256</td>\n",
       "      <td>14.992313</td>\n",
       "      <td>SLOAN_r</td>\n",
       "      <td>[0.4460020548895491, 0.446035965957577, 0.4461...</td>\n",
       "    </tr>\n",
       "    <tr>\n",
       "      <th>692703</th>\n",
       "      <td>18140128</td>\n",
       "      <td>8000</td>\n",
       "      <td>4000</td>\n",
       "      <td>1.375898</td>\n",
       "      <td>1.0</td>\n",
       "      <td>8.700863</td>\n",
       "      <td>5.032643</td>\n",
       "      <td>SLOAN_g</td>\n",
       "      <td>[0.30110954686066566, 0.30399295740341686, 0.3...</td>\n",
       "    </tr>\n",
       "    <tr>\n",
       "      <th>1145336</th>\n",
       "      <td>8511301</td>\n",
       "      <td>45000</td>\n",
       "      <td>9000</td>\n",
       "      <td>1.414878</td>\n",
       "      <td>2.0</td>\n",
       "      <td>13.115210</td>\n",
       "      <td>7.483131</td>\n",
       "      <td>GaiaDR2</td>\n",
       "      <td>[0.22635886049323364, 0.2263575579813117, 0.22...</td>\n",
       "    </tr>\n",
       "  </tbody>\n",
       "</table>\n",
       "</div>"
      ],
      "text/plain": [
       "               id  primary__t_eff  secondary__t_eff  inclination  mass_ratio  \\\n",
       "647973    8747576           20000             14000     1.140601         0.5   \n",
       "1109932   2151919           40000             16000     1.570796         0.2   \n",
       "731380    6282803           35000              9000     1.548615         2.5   \n",
       "692703   18140128            8000              4000     1.375898         1.0   \n",
       "1145336   8511301           45000              9000     1.414878         2.0   \n",
       "\n",
       "         primary__surface_potential  secondary__surface_potential   filter  \\\n",
       "647973                     3.027725                     11.250627  SLOAN_g   \n",
       "1109932                   11.315166                      5.400252  GaiaDR2   \n",
       "731380                    22.501256                     14.992313  SLOAN_r   \n",
       "692703                     8.700863                      5.032643  SLOAN_g   \n",
       "1145336                   13.115210                      7.483131  GaiaDR2   \n",
       "\n",
       "                                                     curve  \n",
       "647973   [0.9046986069364825, 0.9047564022519874, 0.904...  \n",
       "1109932  [0.6924966300408725, 0.6934083009571762, 0.696...  \n",
       "731380   [0.4460020548895491, 0.446035965957577, 0.4461...  \n",
       "692703   [0.30110954686066566, 0.30399295740341686, 0.3...  \n",
       "1145336  [0.22635886049323364, 0.2263575579813117, 0.22...  "
      ]
     },
     "execution_count": 35,
     "metadata": {},
     "output_type": "execute_result"
    }
   ],
   "source": [
    "# BLOK 10\n",
    "# Vytvorenie vzorky 500000 kriviek a 50000 pre ucely predikcie knn a svr\n",
    "\n",
    "data_sample_knn=df_final.sample(n=500000, random_state=1234)\n",
    "data_sample_svr = df_final.sample(n=40000, random_state=1234)\n",
    "\n",
    "data_sample_knn.head()"
   ]
  },
  {
   "cell_type": "code",
   "execution_count": 36,
   "id": "465df73b-37bc-46a7-b26f-6788e3d3aecd",
   "metadata": {
    "pycharm": {
     "name": "#%%\n"
    }
   },
   "outputs": [],
   "source": [
    "# BLOK 11\n",
    "# Ulozenie vzoriek v podobe tabulky do suboru .pkl\n",
    "\n",
    "data_sample_knn.to_pickle(\"det_curves_samples_knn.pkl\")\n",
    "data_sample_svr.to_pickle(\"det_curves_samples_svr.pkl\")"
   ]
  },
  {
   "cell_type": "code",
   "execution_count": null,
   "id": "0dfadf34-4931-47e8-9f4d-41b9e8262687",
   "metadata": {
    "pycharm": {
     "name": "#%%\n"
    }
   },
   "outputs": [],
   "source": []
  }
 ],
 "metadata": {
  "kernelspec": {
   "display_name": "Python 3 (ipykernel)",
   "language": "python",
   "name": "python3"
  },
  "language_info": {
   "codemirror_mode": {
    "name": "ipython",
    "version": 3
   },
   "file_extension": ".py",
   "mimetype": "text/x-python",
   "name": "python",
   "nbconvert_exporter": "python",
   "pygments_lexer": "ipython3",
   "version": "3.10.6"
  }
 },
 "nbformat": 4,
 "nbformat_minor": 5
}