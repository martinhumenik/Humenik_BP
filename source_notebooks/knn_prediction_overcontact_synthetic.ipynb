{
 "cells": [
  {
   "cell_type": "code",
   "execution_count": 1,
   "id": "45bb9324-5c2e-47bb-a7e9-604c28424103",
   "metadata": {
    "pycharm": {
     "name": "#%%\n"
    }
   },
   "outputs": [],
   "source": [
    "# PREDIKCIA HODNOT FYZIKALNYCH PARAMETROV DOTYKOVYCH SYSTEMOCH METODOU k-NN S PRIDANYM SUMOM A BEZ SUMU\n",
    "# VYTVORENIE A ULOZENIE MODELOV"
   ]
  },
  {
   "cell_type": "code",
   "execution_count": 1,
   "id": "2cd203ac-13cc-4d28-9f73-71bc4733a227",
   "metadata": {
    "pycharm": {
     "name": "#%%\n"
    }
   },
   "outputs": [],
   "source": [
    "# BLOK 1\n",
    "# Importovanie kniznic.\n",
    "\n",
    "import numpy as np\n",
    "import pandas as pd\n",
    "\n",
    "import pickle\n",
    "import os\n",
    "\n",
    "from sklearn.neighbors import KNeighborsRegressor\n",
    "from sklearn.multioutput import MultiOutputRegressor\n",
    "from sklearn.pipeline import Pipeline\n",
    "from sklearn.model_selection import GridSearchCV\n",
    "\n",
    "from sklearn.model_selection import train_test_split\n",
    "from sklearn.metrics import mean_squared_error, mean_absolute_error, mean_absolute_percentage_error"
   ]
  },
  {
   "cell_type": "code",
   "execution_count": 2,
   "id": "d7d79397-611e-44b5-bfc2-775a327d9ee2",
   "metadata": {
    "pycharm": {
     "name": "#%%\n"
    }
   },
   "outputs": [],
   "source": [
    "# BLOK 2\n",
    "# Funkcie pre generovanie sumu. Nastavenie pseudo-nahodneho generatora.\n",
    "\n",
    "def generate_observation_sigma(space_obs_frac=0.5):\n",
    "    \"\"\"\n",
    "    Draws a standard deviation of noise in light curve points from a \"true\" value provided in synthetic light curve.\n",
    "    Noise sigma is drawn from bimodal distribution taking into account contributions from space based and earth based\n",
    "    observations which have different levels of stochastic noise.\n",
    "\n",
    "    :param space_obs_frac: ratio between earth based and space based observations\n",
    "    :return: float; standard deviation of the light curve noise\n",
    "    \"\"\"\n",
    "    earth_based_sigma = 4e-3\n",
    "    space_based_sigma = 2e-4\n",
    "    sigma = np.random.choice([earth_based_sigma, space_based_sigma], p=[1-space_obs_frac, space_obs_frac])\n",
    "    return np.random.rayleigh(sigma)\n",
    "\n",
    "def stochastic_noise_generator(curve):\n",
    "    \"\"\"\n",
    "    Introduces gaussian noise into synthetic observation provided in `curve`.\n",
    "\n",
    "    :param curve: numpy.array; normalized light curve\n",
    "    :return: Tuple(numpy.array, float); normalized light curve with added noise, standard deviation of observations\n",
    "    \"\"\"\n",
    "    sigma = generate_observation_sigma()\n",
    "    return np.random.normal(curve, sigma), np.full(curve.shape, sigma)\n",
    "\n",
    "np.random.seed(1234)"
   ]
  },
  {
   "cell_type": "code",
   "execution_count": 3,
   "id": "31f62751-e140-4c11-9cd3-52484b1ee6ba",
   "metadata": {
    "pycharm": {
     "name": "#%%\n"
    }
   },
   "outputs": [
    {
     "data": {
      "text/plain": [
       "500000"
      ]
     },
     "execution_count": 3,
     "metadata": {},
     "output_type": "execute_result"
    }
   ],
   "source": [
    "# BLOK 2\n",
    "# Nacitanie vzorky dotykovych systemov\n",
    "\n",
    "data_sample = pd.read_pickle(\"overcontact_curves_samples_knn.pkl\").reset_index() \n",
    "len(data_sample)"
   ]
  },
  {
   "cell_type": "code",
   "execution_count": 4,
   "id": "e9673169-72e7-41ed-be56-cbfdb17f270a",
   "metadata": {
    "pycharm": {
     "name": "#%%\n"
    }
   },
   "outputs": [
    {
     "name": "stdout",
     "output_type": "stream",
     "text": [
      "Bessell_R    14\n",
      "GaiaDR2      11\n",
      "Kepler       10\n",
      "SLOAN_r       9\n",
      "TESS          8\n",
      "Bessell_U     7\n",
      "SLOAN_i       7\n",
      "SLOAN_z       7\n",
      "Bessell_I     6\n",
      "Bessell_V     6\n",
      "SLOAN_u       6\n",
      "Bessell_B     5\n",
      "SLOAN_g       4\n",
      "Name: filter, dtype: int64\n"
     ]
    }
   ],
   "source": [
    "# BLOK 3\n",
    "# Vyber a priprava dat. Skontrolovanie vyberu podla filtrov.\n",
    "\n",
    "np.random.seed(1)\n",
    "\n",
    "data_sample=data_sample.sample(n=100, random_state=1234)\n",
    "data_sample[\"t2/t1\"]=data_sample[\"secondary__t_eff\"]/data_sample[\"primary__t_eff\"]\n",
    "data_sample=data_sample.round({\"mass_ratio\":14})\n",
    "\n",
    "\n",
    "y = data_sample[[\"t2/t1\", \"inclination\", \"mass_ratio\", \"primary__surface_potential\", \"secondary__surface_potential\"]]\n",
    "X=[]\n",
    "for row in data_sample[\"curve\"]:\n",
    "    X.append(row)\n",
    "\n",
    "print(data_sample[\"filter\"].value_counts())"
   ]
  },
  {
   "cell_type": "code",
   "execution_count": 5,
   "id": "0ccc506f-9cd6-46f0-90a5-8b5e6cbe0da1",
   "metadata": {
    "pycharm": {
     "name": "#%%\n"
    }
   },
   "outputs": [],
   "source": [
    "# BLOK 4 - a\n",
    "# rozdelenie dat na trenovaciu a testovaciu mnozinu v pomere 80:20\n",
    "# mnoziny pozostavaju z kriviek bez pridaneho sumu\n",
    "\n",
    "X_train, X_test, y_train, y_test = train_test_split(\n",
    "    X, y, test_size=0.2\n",
    ")"
   ]
  },
  {
   "cell_type": "code",
   "execution_count": 8,
   "id": "98ae031e-7524-4d80-8d01-e65ab0f81610",
   "metadata": {
    "pycharm": {
     "name": "#%%\n"
    }
   },
   "outputs": [],
   "source": [
    "# BLOK 4 - b\n",
    "# rozdelenie dat na trenovaciu a testovaciu mnozinu v pomere 80:20\n",
    "# svetelnym krivkam je pridany umely sum\n",
    "\n",
    "X_train_n, X_test_n, y_train_n, y_test_n = train_test_split(\n",
    "    X, y, test_size=0.2\n",
    ")\n",
    "\n",
    "X_train=[]\n",
    "y_train=[]\n",
    "for i in range(len(X_train_n)):\n",
    "    for j in range(3):\n",
    "        curve=stochastic_noise_generator(X_train_n[i])\n",
    "        X_train.append(curve[0])\n",
    "        y_train.append(y_train_n.iloc[i])\n",
    "        j+=1        \n",
    "X_train=np.array(X_train)\n",
    "y_train=np.array(y_train)\n",
    "\n",
    "X_test=[]\n",
    "y_test=[]\n",
    "for i in range(len(X_test_n)):\n",
    "    for j in range(3):\n",
    "        curve=stochastic_noise_generator(X_test_n[i])\n",
    "        X_test.append(curve[0])\n",
    "        y_test.append(y_test_n.iloc[i])\n",
    "        j+=1\n",
    "X_test=np.array(X_test)\n",
    "y_test=np.array(y_test)"
   ]
  },
  {
   "cell_type": "code",
   "execution_count": 6,
   "id": "990d7fe8-c326-43b4-8da7-461a67955c07",
   "metadata": {
    "pycharm": {
     "name": "#%%\n"
    }
   },
   "outputs": [
    {
     "data": {
      "text/html": [
       "<div>\n",
       "<style scoped>\n",
       "    .dataframe tbody tr th:only-of-type {\n",
       "        vertical-align: middle;\n",
       "    }\n",
       "\n",
       "    .dataframe tbody tr th {\n",
       "        vertical-align: top;\n",
       "    }\n",
       "\n",
       "    .dataframe thead th {\n",
       "        text-align: right;\n",
       "    }\n",
       "</style>\n",
       "<table border=\"1\" class=\"dataframe\">\n",
       "  <thead>\n",
       "    <tr style=\"text-align: right;\">\n",
       "      <th></th>\n",
       "      <th>index</th>\n",
       "      <th>t2/t1</th>\n",
       "      <th>inclination</th>\n",
       "      <th>mass_ratio</th>\n",
       "      <th>primary__surface_potential</th>\n",
       "      <th>secondary__surface_potential</th>\n",
       "    </tr>\n",
       "  </thead>\n",
       "  <tbody>\n",
       "    <tr>\n",
       "      <th>0</th>\n",
       "      <td>279060</td>\n",
       "      <td>0.904762</td>\n",
       "      <td>1.159527</td>\n",
       "      <td>1.250000</td>\n",
       "      <td>3.621534</td>\n",
       "      <td>3.621534</td>\n",
       "    </tr>\n",
       "    <tr>\n",
       "      <th>1</th>\n",
       "      <td>127849</td>\n",
       "      <td>0.965517</td>\n",
       "      <td>0.958100</td>\n",
       "      <td>2.500000</td>\n",
       "      <td>5.464111</td>\n",
       "      <td>5.464111</td>\n",
       "    </tr>\n",
       "    <tr>\n",
       "      <th>2</th>\n",
       "      <td>286650</td>\n",
       "      <td>0.931034</td>\n",
       "      <td>1.470485</td>\n",
       "      <td>1.111111</td>\n",
       "      <td>3.544514</td>\n",
       "      <td>3.544514</td>\n",
       "    </tr>\n",
       "    <tr>\n",
       "      <th>3</th>\n",
       "      <td>17315</td>\n",
       "      <td>0.958333</td>\n",
       "      <td>0.935198</td>\n",
       "      <td>0.700000</td>\n",
       "      <td>2.859116</td>\n",
       "      <td>2.859116</td>\n",
       "    </tr>\n",
       "    <tr>\n",
       "      <th>4</th>\n",
       "      <td>201970</td>\n",
       "      <td>1.000000</td>\n",
       "      <td>1.501347</td>\n",
       "      <td>2.000000</td>\n",
       "      <td>4.830454</td>\n",
       "      <td>4.830454</td>\n",
       "    </tr>\n",
       "  </tbody>\n",
       "</table>\n",
       "</div>"
      ],
      "text/plain": [
       "    index     t2/t1  inclination  mass_ratio  primary__surface_potential  \\\n",
       "0  279060  0.904762     1.159527    1.250000                    3.621534   \n",
       "1  127849  0.965517     0.958100    2.500000                    5.464111   \n",
       "2  286650  0.931034     1.470485    1.111111                    3.544514   \n",
       "3   17315  0.958333     0.935198    0.700000                    2.859116   \n",
       "4  201970  1.000000     1.501347    2.000000                    4.830454   \n",
       "\n",
       "   secondary__surface_potential  \n",
       "0                      3.621534  \n",
       "1                      5.464111  \n",
       "2                      3.544514  \n",
       "3                      2.859116  \n",
       "4                      4.830454  "
      ]
     },
     "execution_count": 6,
     "metadata": {},
     "output_type": "execute_result"
    }
   ],
   "source": [
    "# Uprava testovacej mnoziny na dataframe\n",
    "\n",
    "y_test = pd.DataFrame(y_test, columns=[\"t2/t1\", \"inclination\", \"mass_ratio\", \"primary__surface_potential\", \"secondary__surface_potential\"])\n",
    "y_test = y_test.reset_index()\n",
    "y_test.head()"
   ]
  },
  {
   "cell_type": "code",
   "execution_count": 20,
   "id": "e7b5545c-f9a7-400a-95fd-b4bd4204a799",
   "metadata": {
    "pycharm": {
     "name": "#%%\n"
    }
   },
   "outputs": [
    {
     "data": {
      "text/html": [
       "<style>#sk-container-id-1 {color: black;background-color: white;}#sk-container-id-1 pre{padding: 0;}#sk-container-id-1 div.sk-toggleable {background-color: white;}#sk-container-id-1 label.sk-toggleable__label {cursor: pointer;display: block;width: 100%;margin-bottom: 0;padding: 0.3em;box-sizing: border-box;text-align: center;}#sk-container-id-1 label.sk-toggleable__label-arrow:before {content: \"▸\";float: left;margin-right: 0.25em;color: #696969;}#sk-container-id-1 label.sk-toggleable__label-arrow:hover:before {color: black;}#sk-container-id-1 div.sk-estimator:hover label.sk-toggleable__label-arrow:before {color: black;}#sk-container-id-1 div.sk-toggleable__content {max-height: 0;max-width: 0;overflow: hidden;text-align: left;background-color: #f0f8ff;}#sk-container-id-1 div.sk-toggleable__content pre {margin: 0.2em;color: black;border-radius: 0.25em;background-color: #f0f8ff;}#sk-container-id-1 input.sk-toggleable__control:checked~div.sk-toggleable__content {max-height: 200px;max-width: 100%;overflow: auto;}#sk-container-id-1 input.sk-toggleable__control:checked~label.sk-toggleable__label-arrow:before {content: \"▾\";}#sk-container-id-1 div.sk-estimator input.sk-toggleable__control:checked~label.sk-toggleable__label {background-color: #d4ebff;}#sk-container-id-1 div.sk-label input.sk-toggleable__control:checked~label.sk-toggleable__label {background-color: #d4ebff;}#sk-container-id-1 input.sk-hidden--visually {border: 0;clip: rect(1px 1px 1px 1px);clip: rect(1px, 1px, 1px, 1px);height: 1px;margin: -1px;overflow: hidden;padding: 0;position: absolute;width: 1px;}#sk-container-id-1 div.sk-estimator {font-family: monospace;background-color: #f0f8ff;border: 1px dotted black;border-radius: 0.25em;box-sizing: border-box;margin-bottom: 0.5em;}#sk-container-id-1 div.sk-estimator:hover {background-color: #d4ebff;}#sk-container-id-1 div.sk-parallel-item::after {content: \"\";width: 100%;border-bottom: 1px solid gray;flex-grow: 1;}#sk-container-id-1 div.sk-label:hover label.sk-toggleable__label {background-color: #d4ebff;}#sk-container-id-1 div.sk-serial::before {content: \"\";position: absolute;border-left: 1px solid gray;box-sizing: border-box;top: 0;bottom: 0;left: 50%;z-index: 0;}#sk-container-id-1 div.sk-serial {display: flex;flex-direction: column;align-items: center;background-color: white;padding-right: 0.2em;padding-left: 0.2em;position: relative;}#sk-container-id-1 div.sk-item {position: relative;z-index: 1;}#sk-container-id-1 div.sk-parallel {display: flex;align-items: stretch;justify-content: center;background-color: white;position: relative;}#sk-container-id-1 div.sk-item::before, #sk-container-id-1 div.sk-parallel-item::before {content: \"\";position: absolute;border-left: 1px solid gray;box-sizing: border-box;top: 0;bottom: 0;left: 50%;z-index: -1;}#sk-container-id-1 div.sk-parallel-item {display: flex;flex-direction: column;z-index: 1;position: relative;background-color: white;}#sk-container-id-1 div.sk-parallel-item:first-child::after {align-self: flex-end;width: 50%;}#sk-container-id-1 div.sk-parallel-item:last-child::after {align-self: flex-start;width: 50%;}#sk-container-id-1 div.sk-parallel-item:only-child::after {width: 0;}#sk-container-id-1 div.sk-dashed-wrapped {border: 1px dashed gray;margin: 0 0.4em 0.5em 0.4em;box-sizing: border-box;padding-bottom: 0.4em;background-color: white;}#sk-container-id-1 div.sk-label label {font-family: monospace;font-weight: bold;display: inline-block;line-height: 1.2em;}#sk-container-id-1 div.sk-label-container {text-align: center;}#sk-container-id-1 div.sk-container {/* jupyter's `normalize.less` sets `[hidden] { display: none; }` but bootstrap.min.css set `[hidden] { display: none !important; }` so we also need the `!important` here to be able to override the default hidden behavior on the sphinx rendered scikit-learn.org. See: https://github.com/scikit-learn/scikit-learn/issues/21755 */display: inline-block !important;position: relative;}#sk-container-id-1 div.sk-text-repr-fallback {display: none;}</style><div id=\"sk-container-id-1\" class=\"sk-top-container\"><div class=\"sk-text-repr-fallback\"><pre>Pipeline(steps=[(&#x27;reg&#x27;,\n",
       "                 MultiOutputRegressor(estimator=KNeighborsRegressor(metric=&#x27;cosine&#x27;,\n",
       "                                                                    n_neighbors=4)))])</pre><b>In a Jupyter environment, please rerun this cell to show the HTML representation or trust the notebook. <br />On GitHub, the HTML representation is unable to render, please try loading this page with nbviewer.org.</b></div><div class=\"sk-container\" hidden><div class=\"sk-item sk-dashed-wrapped\"><div class=\"sk-label-container\"><div class=\"sk-label sk-toggleable\"><input class=\"sk-toggleable__control sk-hidden--visually\" id=\"sk-estimator-id-1\" type=\"checkbox\" ><label for=\"sk-estimator-id-1\" class=\"sk-toggleable__label sk-toggleable__label-arrow\">Pipeline</label><div class=\"sk-toggleable__content\"><pre>Pipeline(steps=[(&#x27;reg&#x27;,\n",
       "                 MultiOutputRegressor(estimator=KNeighborsRegressor(metric=&#x27;cosine&#x27;,\n",
       "                                                                    n_neighbors=4)))])</pre></div></div></div><div class=\"sk-serial\"><div class=\"sk-item sk-dashed-wrapped\"><div class=\"sk-label-container\"><div class=\"sk-label sk-toggleable\"><input class=\"sk-toggleable__control sk-hidden--visually\" id=\"sk-estimator-id-2\" type=\"checkbox\" ><label for=\"sk-estimator-id-2\" class=\"sk-toggleable__label sk-toggleable__label-arrow\">reg: MultiOutputRegressor</label><div class=\"sk-toggleable__content\"><pre>MultiOutputRegressor(estimator=KNeighborsRegressor(metric=&#x27;cosine&#x27;,\n",
       "                                                   n_neighbors=4))</pre></div></div></div><div class=\"sk-parallel\"><div class=\"sk-parallel-item\"><div class=\"sk-item\"><div class=\"sk-label-container\"><div class=\"sk-label sk-toggleable\"><input class=\"sk-toggleable__control sk-hidden--visually\" id=\"sk-estimator-id-3\" type=\"checkbox\" ><label for=\"sk-estimator-id-3\" class=\"sk-toggleable__label sk-toggleable__label-arrow\">estimator: KNeighborsRegressor</label><div class=\"sk-toggleable__content\"><pre>KNeighborsRegressor(metric=&#x27;cosine&#x27;, n_neighbors=4)</pre></div></div></div><div class=\"sk-serial\"><div class=\"sk-item\"><div class=\"sk-estimator sk-toggleable\"><input class=\"sk-toggleable__control sk-hidden--visually\" id=\"sk-estimator-id-4\" type=\"checkbox\" ><label for=\"sk-estimator-id-4\" class=\"sk-toggleable__label sk-toggleable__label-arrow\">KNeighborsRegressor</label><div class=\"sk-toggleable__content\"><pre>KNeighborsRegressor(metric=&#x27;cosine&#x27;, n_neighbors=4)</pre></div></div></div></div></div></div></div></div></div></div></div></div>"
      ],
      "text/plain": [
       "Pipeline(steps=[('reg',\n",
       "                 MultiOutputRegressor(estimator=KNeighborsRegressor(metric='cosine',\n",
       "                                                                    n_neighbors=4)))])"
      ]
     },
     "execution_count": 20,
     "metadata": {},
     "output_type": "execute_result"
    }
   ],
   "source": [
    "# BLOK 5\n",
    "# Najdenie optimalnych hodnot hyper-parametrov pre model, vypis najlepsieho modelu\n",
    "\n",
    "pipe_knn = Pipeline([('reg', MultiOutputRegressor(KNeighborsRegressor()))])\n",
    "grid_param_knn = {\n",
    "    \"reg__estimator__n_neighbors\": range(2, 7),\n",
    "    \"reg__estimator__metric\": [\"cosine\", \"euclidean\", \"l1\"]\n",
    "}\n",
    "gs_svr = (GridSearchCV(estimator=pipe_knn, \n",
    "                      param_grid=grid_param_knn, \n",
    "                      ))\n",
    "gs_svr = gs_svr.fit(X_train,y_train)\n",
    "best_params = gs_svr.best_params_\n",
    "gs_svr.best_estimator_  "
   ]
  },
  {
   "cell_type": "code",
   "execution_count": 8,
   "id": "84ea5161-adcb-4695-bcdb-0d76beab57f3",
   "metadata": {
    "pycharm": {
     "name": "#%%\n"
    }
   },
   "outputs": [],
   "source": [
    "best_params = {'reg__estimator__metric': 'cosine', 'reg__estimator__n_neighbors': 4}"
   ]
  },
  {
   "cell_type": "code",
   "execution_count": 9,
   "id": "b552f13f-8bdb-4140-9ab7-6dc9af402e5c",
   "metadata": {
    "pycharm": {
     "name": "#%%\n"
    }
   },
   "outputs": [
    {
     "data": {
      "text/plain": [
       "{'algorithm': 'auto',\n",
       " 'leaf_size': 30,\n",
       " 'metric': 'cosine',\n",
       " 'metric_params': None,\n",
       " 'n_jobs': None,\n",
       " 'n_neighbors': 4,\n",
       " 'p': 2,\n",
       " 'weights': 'distance'}"
      ]
     },
     "execution_count": 9,
     "metadata": {},
     "output_type": "execute_result"
    }
   ],
   "source": [
    "# BLOK 6\n",
    "# Vytvorenie architektury modelu. Spustenie trenovania na trenovacej mnozine. Vypis architektury modelu\n",
    "\n",
    "knn_model = KNeighborsRegressor(n_neighbors=best_params['reg__estimator__n_neighbors'],\n",
    "                                metric=best_params['reg__estimator__metric'], \n",
    "                                weights='distance')\n",
    "knn_model.fit(X_train, y_train)\n",
    "\n",
    "knn_model.get_params()"
   ]
  },
  {
   "cell_type": "code",
   "execution_count": 10,
   "id": "55dbf135-b037-4fde-938c-3332cb928130",
   "metadata": {
    "pycharm": {
     "name": "#%%\n"
    }
   },
   "outputs": [
    {
     "data": {
      "text/html": [
       "<div>\n",
       "<style scoped>\n",
       "    .dataframe tbody tr th:only-of-type {\n",
       "        vertical-align: middle;\n",
       "    }\n",
       "\n",
       "    .dataframe tbody tr th {\n",
       "        vertical-align: top;\n",
       "    }\n",
       "\n",
       "    .dataframe thead th {\n",
       "        text-align: right;\n",
       "    }\n",
       "</style>\n",
       "<table border=\"1\" class=\"dataframe\">\n",
       "  <thead>\n",
       "    <tr style=\"text-align: right;\">\n",
       "      <th></th>\n",
       "      <th>T2/T1</th>\n",
       "      <th>Inc</th>\n",
       "      <th>mass_ratio</th>\n",
       "      <th>PSP</th>\n",
       "      <th>SSP</th>\n",
       "    </tr>\n",
       "  </thead>\n",
       "  <tbody>\n",
       "    <tr>\n",
       "      <th>0</th>\n",
       "      <td>0.937556</td>\n",
       "      <td>1.230430</td>\n",
       "      <td>1.000000</td>\n",
       "      <td>3.235018</td>\n",
       "      <td>3.235018</td>\n",
       "    </tr>\n",
       "    <tr>\n",
       "      <th>1</th>\n",
       "      <td>0.976498</td>\n",
       "      <td>0.862225</td>\n",
       "      <td>1.191624</td>\n",
       "      <td>3.588923</td>\n",
       "      <td>3.588923</td>\n",
       "    </tr>\n",
       "    <tr>\n",
       "      <th>2</th>\n",
       "      <td>0.927420</td>\n",
       "      <td>1.460823</td>\n",
       "      <td>1.040322</td>\n",
       "      <td>3.351124</td>\n",
       "      <td>3.351124</td>\n",
       "    </tr>\n",
       "    <tr>\n",
       "      <th>3</th>\n",
       "      <td>0.927828</td>\n",
       "      <td>1.007173</td>\n",
       "      <td>1.076414</td>\n",
       "      <td>3.584951</td>\n",
       "      <td>3.584951</td>\n",
       "    </tr>\n",
       "    <tr>\n",
       "      <th>4</th>\n",
       "      <td>0.975379</td>\n",
       "      <td>1.448544</td>\n",
       "      <td>1.135275</td>\n",
       "      <td>3.602047</td>\n",
       "      <td>3.602047</td>\n",
       "    </tr>\n",
       "  </tbody>\n",
       "</table>\n",
       "</div>"
      ],
      "text/plain": [
       "      T2/T1       Inc  mass_ratio       PSP       SSP\n",
       "0  0.937556  1.230430    1.000000  3.235018  3.235018\n",
       "1  0.976498  0.862225    1.191624  3.588923  3.588923\n",
       "2  0.927420  1.460823    1.040322  3.351124  3.351124\n",
       "3  0.927828  1.007173    1.076414  3.584951  3.584951\n",
       "4  0.975379  1.448544    1.135275  3.602047  3.602047"
      ]
     },
     "execution_count": 10,
     "metadata": {},
     "output_type": "execute_result"
    }
   ],
   "source": [
    "# BLOK 7\n",
    "# Predikcia a vytvorenie dataframu z predikovanych hodnot\n",
    "\n",
    "y_pred = knn_model.predict(X_test)\n",
    "\n",
    "df_y_pred = pd.DataFrame(y_pred, columns=[\"T2/T1\", \"Inc\", \"mass_ratio\", \"PSP\", \"SSP\"])\n",
    "df_y_pred.head()"
   ]
  },
  {
   "cell_type": "code",
   "execution_count": 11,
   "id": "c0d86e5a-7ef5-4f7b-8179-64566086684e",
   "metadata": {
    "pycharm": {
     "name": "#%%\n"
    }
   },
   "outputs": [
    {
     "name": "stdout",
     "output_type": "stream",
     "text": [
      "MSE T2/T1: 0.0009012387274669664 MAE T2/T1: 0.024293339139160486 MAPE T2/T1: 2.5750787257585688%\n",
      "MSE INC: 0.005302649087321927 MAE INC: 0.06394439173710702 MAPE INC: 5.396354078245835%\n",
      "MSE MASS: 1.257977497137111 MAE MASS: 0.7308877468252964 MAPE MASS: 118.9900143141897%\n",
      "MSE PSP: 2.6196561220424237 MAE PSP: 1.0844692272465906 MAPE PSP: 32.408627388302556%\n",
      "MSE SSP: 2.6196561220424237 MAE SSP: 1.0844692272465906 MAPE SSP: 32.408627388302556%\n"
     ]
    }
   ],
   "source": [
    "# BLOK 8\n",
    "# Chybovost pri predikcii pre kazdy parameter zvlast na testovacich krivkach\n",
    "\n",
    "mse_t = mean_squared_error(y_test[\"t2/t1\"], df_y_pred['T2/T1'])\n",
    "mape_t = mean_absolute_percentage_error(y_test[\"t2/t1\"], df_y_pred['T2/T1'])\n",
    "mae_t = mean_absolute_error(y_test[\"t2/t1\"], df_y_pred['T2/T1'])\n",
    "\n",
    "mse_inc = mean_squared_error(y_test[\"inclination\"], df_y_pred['Inc'])\n",
    "mape_inc = mean_absolute_percentage_error(y_test[\"inclination\"], df_y_pred['Inc'])\n",
    "mae_inc = mean_absolute_error(y_test[\"inclination\"], df_y_pred['Inc'])\n",
    "\n",
    "mse_mass = mean_squared_error(y_test[\"mass_ratio\"], df_y_pred['mass_ratio'])\n",
    "mape_mass = mean_absolute_percentage_error(y_test[\"mass_ratio\"], df_y_pred['mass_ratio'])\n",
    "mae_mass = mean_absolute_error(y_test[\"mass_ratio\"], df_y_pred['mass_ratio'])\n",
    "\n",
    "mse_psp = mean_squared_error(y_test[\"primary__surface_potential\"], df_y_pred['PSP'])\n",
    "mape_psp = mean_absolute_percentage_error(y_test[\"primary__surface_potential\"], df_y_pred['PSP'])\n",
    "mae_psp = mean_absolute_error(y_test[\"primary__surface_potential\"], df_y_pred['PSP'])\n",
    "\n",
    "mse_ssp = mean_squared_error(y_test[\"secondary__surface_potential\"], df_y_pred['SSP'])\n",
    "mape_ssp = mean_absolute_percentage_error(y_test[\"secondary__surface_potential\"], df_y_pred['SSP'])\n",
    "mae_ssp = mean_absolute_error(y_test[\"secondary__surface_potential\"], df_y_pred['SSP'])\n",
    "\n",
    "print(\"MSE T2/T1: \" + str(mse_t) + \" MAE T2/T1: \" + str(mae_t) + \" MAPE T2/T1: \" + str(mape_t * 100) + \"%\")\n",
    "print(\"MSE INC: \" + str(mse_inc) + \" MAE INC: \" + str(mae_inc) + \" MAPE INC: \" + str(mape_inc * 100) + \"%\")\n",
    "print(\"MSE MASS: \" + str(mse_mass) + \" MAE MASS: \" + str(mae_mass) + \" MAPE MASS: \" + str(mape_mass * 100) + \"%\")\n",
    "print(\"MSE PSP: \" + str(mse_psp) + \" MAE PSP: \" + str(mae_psp) + \" MAPE PSP: \" + str(mape_psp * 100) + \"%\")\n",
    "print(\"MSE SSP: \" + str(mse_ssp) + \" MAE SSP: \" + str(mae_ssp) + \" MAPE SSP: \" + str(mape_ssp * 100) + \"%\")"
   ]
  },
  {
   "cell_type": "code",
   "execution_count": 25,
   "id": "30eacd20-0122-4a4b-8936-4653d65ba905",
   "metadata": {
    "pycharm": {
     "name": "#%%\n"
    }
   },
   "outputs": [],
   "source": [
    "# BLOK 9\n",
    "# ulozenie modelu\n",
    "\n",
    "os.makedirs(os.path.dirname(\"models/knn_overcontact_noise_model.pkl\"), exist_ok=True)\n",
    "pickle.dump(knn_model, open(\"models/knn_overcontact_noise_model.pkl\", 'wb'))"
   ]
  },
  {
   "cell_type": "code",
   "execution_count": null,
   "id": "3a53c336-51c8-4040-8b06-3c303b21f33b",
   "metadata": {
    "pycharm": {
     "name": "#%%\n"
    }
   },
   "outputs": [],
   "source": []
  }
 ],
 "metadata": {
  "kernelspec": {
   "display_name": "Python 3 (ipykernel)",
   "language": "python",
   "name": "python3"
  },
  "language_info": {
   "codemirror_mode": {
    "name": "ipython",
    "version": 3
   },
   "file_extension": ".py",
   "mimetype": "text/x-python",
   "name": "python",
   "nbconvert_exporter": "python",
   "pygments_lexer": "ipython3",
   "version": "3.10.6"
  }
 },
 "nbformat": 4,
 "nbformat_minor": 5
}