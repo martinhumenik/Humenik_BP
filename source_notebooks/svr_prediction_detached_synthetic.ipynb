{
 "cells": [
  {
   "cell_type": "code",
   "execution_count": null,
   "id": "14f1d14a-65ba-485f-a57e-b9d60297778e",
   "metadata": {
    "pycharm": {
     "name": "#%%\n"
    }
   },
   "outputs": [],
   "source": [
    "# PREDIKCIA HODNOT FYZIKALNYCH PARAMETROV ODDELENYCH SYSTEMOCH METODOU SVR S PRIDANYM SUMOM A BEZ SUMU\n",
    "# VYTVORENIE A ULOZENIE MODELOV"
   ]
  },
  {
   "cell_type": "code",
   "execution_count": 1,
   "id": "ebd0f85d-0e1b-442d-94f2-fcb704db8eae",
   "metadata": {
    "pycharm": {
     "name": "#%%\n"
    }
   },
   "outputs": [],
   "source": [
    "# BLOK 1\n",
    "# Importovanie kniznic.\n",
    "\n",
    "import numpy as np\n",
    "import pandas as pd\n",
    "\n",
    "import pickle\n",
    "import os\n",
    "\n",
    "from sklearn.svm import SVR\n",
    "from sklearn.multioutput import MultiOutputRegressor\n",
    "from sklearn.model_selection import GridSearchCV\n",
    "from sklearn.pipeline import Pipeline\n",
    "\n",
    "from sklearn.model_selection import train_test_split\n",
    "from sklearn.metrics import mean_squared_error, mean_absolute_error, mean_absolute_percentage_error"
   ]
  },
  {
   "cell_type": "code",
   "execution_count": 2,
   "id": "b07143a9-5d17-4ff0-9b8a-9d782138c254",
   "metadata": {
    "pycharm": {
     "name": "#%%\n"
    }
   },
   "outputs": [],
   "source": [
    "# BLOK 2\n",
    "# Funkcie pre generovanie sumu. Nastavenie pseudo-nahodneho generatora.\n",
    "\n",
    "def generate_observation_sigma(space_obs_frac=0.5):\n",
    "    \"\"\"\n",
    "    Draws a standard deviation of noise in light curve points from a \"true\" value provided in synthetic light curve.\n",
    "    Noise sigma is drawn from bimodal distribution taking into account contributions from space based and earth based\n",
    "    observations which have different levels of stochastic noise.\n",
    "\n",
    "    :param space_obs_frac: ratio between earth based and space based observations\n",
    "    :return: float; standard deviation of the light curve noise\n",
    "    \"\"\"\n",
    "    earth_based_sigma = 4e-3\n",
    "    space_based_sigma = 2e-4\n",
    "    sigma = np.random.choice([earth_based_sigma, space_based_sigma], p=[1-space_obs_frac, space_obs_frac])\n",
    "    return np.random.rayleigh(sigma)\n",
    "\n",
    "def stochastic_noise_generator(curve):\n",
    "    \"\"\"\n",
    "    Introduces gaussian noise into synthetic observation provided in `curve`.\n",
    "\n",
    "    :param curve: numpy.array; normalized light curve\n",
    "    :return: Tuple(numpy.array, float); normalized light curve with added noise, standard deviation of observations\n",
    "    \"\"\"\n",
    "    sigma = generate_observation_sigma()\n",
    "    return np.random.normal(curve, sigma), np.full(curve.shape, sigma)\n",
    "\n",
    "np.random.seed(1234)"
   ]
  },
  {
   "cell_type": "code",
   "execution_count": 3,
   "id": "6f496599-50b3-40fb-bbd9-6ba016ed4492",
   "metadata": {
    "pycharm": {
     "name": "#%%\n"
    }
   },
   "outputs": [],
   "source": [
    "# BLOK 2\n",
    "# Nacitanie vzorky oddelenych systemov\n",
    "\n",
    "data_sample = pd.read_pickle(\"detached_curves_samples_svr.pkl\")"
   ]
  },
  {
   "cell_type": "code",
   "execution_count": 4,
   "id": "5a0bb029-6a33-4775-b207-a8bf3d98e268",
   "metadata": {
    "pycharm": {
     "name": "#%%\n"
    }
   },
   "outputs": [
    {
     "data": {
      "text/plain": [
       "50000"
      ]
     },
     "execution_count": 4,
     "metadata": {},
     "output_type": "execute_result"
    }
   ],
   "source": [
    "len(data_sample)"
   ]
  },
  {
   "cell_type": "code",
   "execution_count": 5,
   "id": "865d3104-c2eb-4ed4-bf80-562f59b6bd6d",
   "metadata": {
    "pycharm": {
     "name": "#%%\n"
    }
   },
   "outputs": [],
   "source": [
    "data_sample = data_sample.sample(400)"
   ]
  },
  {
   "cell_type": "code",
   "execution_count": 18,
   "id": "44c834e4-1760-4792-b5f7-9c04dd266629",
   "metadata": {
    "pycharm": {
     "name": "#%%\n"
    }
   },
   "outputs": [
    {
     "name": "stdout",
     "output_type": "stream",
     "text": [
      "SLOAN_g      44\n",
      "Bessell_U    39\n",
      "Bessell_R    35\n",
      "SLOAN_z      32\n",
      "GaiaDR2      31\n",
      "Kepler       30\n",
      "SLOAN_r      29\n",
      "SLOAN_u      28\n",
      "TESS         27\n",
      "Bessell_B    27\n",
      "Bessell_V    26\n",
      "Bessell_I    26\n",
      "SLOAN_i      26\n",
      "Name: filter, dtype: int64\n"
     ]
    }
   ],
   "source": [
    "# BLOK 4\n",
    "# Vyber a priprava dat. Skontrolovanie vyberu podla filtrov.\n",
    "\n",
    "np.random.seed(1)\n",
    "\n",
    "data_sample[\"t2/t1\"]=data_sample[\"secondary__t_eff\"]/data_sample[\"primary__t_eff\"]\n",
    "data_sample=data_sample.round({\"mass_ratio\":14})\n",
    "\n",
    "y = data_sample[[\"t2/t1\", \"inclination\", \"mass_ratio\", \"primary__surface_potential\", \"secondary__surface_potential\"]]\n",
    "\n",
    "X=[]\n",
    "for row in data_sample[\"curve\"]:\n",
    "    X.append(row)\n",
    "\n",
    "print(data_sample[\"filter\"].value_counts())"
   ]
  },
  {
   "cell_type": "code",
   "execution_count": 19,
   "id": "7eeb7a03-5f7e-4c4e-8c3c-79fc6bfdb40f",
   "metadata": {
    "pycharm": {
     "name": "#%%\n"
    }
   },
   "outputs": [],
   "source": [
    "# BLOK 4 - a\n",
    "# rozdelenie dat na trenovaciu a testovaciu mnozinu v pomere 80:20\n",
    "# mnoziny pozostavaju z kriviek bez pridaneho sumu\n",
    "\n",
    "X_train, X_test, y_train, y_test = train_test_split(\n",
    "    X, y, test_size=0.2\n",
    ")"
   ]
  },
  {
   "cell_type": "code",
   "execution_count": 13,
   "id": "167a2a87-6c9c-433f-9fef-ee264e3bda66",
   "metadata": {
    "pycharm": {
     "name": "#%%\n"
    }
   },
   "outputs": [],
   "source": [
    "# BLOK 4 - b\n",
    "# rozdelenie dat na trenovaciu a testovaciu mnozinu v pomere 80:20\n",
    "# svetelnym krivkam je pridany umely sum\n",
    "\n",
    "X_train_n, X_test_n, y_train_n, y_test_n = train_test_split(\n",
    "    X, y, test_size=0.2\n",
    ")\n",
    "\n",
    "X_train=[]\n",
    "y_train=[]\n",
    "for i in range(len(X_train_n)):\n",
    "    for j in range(3):\n",
    "        curve=stochastic_noise_generator(X_train_n[i])\n",
    "        X_train.append(curve[0])\n",
    "        y_train.append(y_train_n.iloc[i])\n",
    "        j+=1        \n",
    "X_train=np.array(X_train)\n",
    "y_train=np.array(y_train)\n",
    "\n",
    "X_test=[]\n",
    "y_test=[]\n",
    "for i in range(len(X_test_n)):\n",
    "    for j in range(3):\n",
    "        curve=stochastic_noise_generator(X_test_n[i])\n",
    "        X_test.append(curve[0])\n",
    "        y_test.append(y_test_n.iloc[i])\n",
    "        j+=1\n",
    "X_test=np.array(X_test)\n",
    "y_test=np.array(y_test)"
   ]
  },
  {
   "cell_type": "code",
   "execution_count": 20,
   "id": "70c3796a-bcd1-44c2-aca0-b13a88d57f05",
   "metadata": {
    "pycharm": {
     "name": "#%%\n"
    }
   },
   "outputs": [
    {
     "data": {
      "text/html": [
       "<div>\n",
       "<style scoped>\n",
       "    .dataframe tbody tr th:only-of-type {\n",
       "        vertical-align: middle;\n",
       "    }\n",
       "\n",
       "    .dataframe tbody tr th {\n",
       "        vertical-align: top;\n",
       "    }\n",
       "\n",
       "    .dataframe thead th {\n",
       "        text-align: right;\n",
       "    }\n",
       "</style>\n",
       "<table border=\"1\" class=\"dataframe\">\n",
       "  <thead>\n",
       "    <tr style=\"text-align: right;\">\n",
       "      <th></th>\n",
       "      <th>index</th>\n",
       "      <th>t2/t1</th>\n",
       "      <th>inclination</th>\n",
       "      <th>mass_ratio</th>\n",
       "      <th>primary__surface_potential</th>\n",
       "      <th>secondary__surface_potential</th>\n",
       "    </tr>\n",
       "  </thead>\n",
       "  <tbody>\n",
       "    <tr>\n",
       "      <th>0</th>\n",
       "      <td>300001</td>\n",
       "      <td>0.800000</td>\n",
       "      <td>1.556795</td>\n",
       "      <td>10.0</td>\n",
       "      <td>110.000050</td>\n",
       "      <td>996.500500</td>\n",
       "    </tr>\n",
       "    <tr>\n",
       "      <th>1</th>\n",
       "      <td>862041</td>\n",
       "      <td>0.222222</td>\n",
       "      <td>1.327042</td>\n",
       "      <td>0.7</td>\n",
       "      <td>8.400832</td>\n",
       "      <td>5.278068</td>\n",
       "    </tr>\n",
       "    <tr>\n",
       "      <th>2</th>\n",
       "      <td>225466</td>\n",
       "      <td>0.750000</td>\n",
       "      <td>1.228534</td>\n",
       "      <td>0.3</td>\n",
       "      <td>3.073046</td>\n",
       "      <td>3.119347</td>\n",
       "    </tr>\n",
       "    <tr>\n",
       "      <th>3</th>\n",
       "      <td>105000</td>\n",
       "      <td>1.000000</td>\n",
       "      <td>1.522997</td>\n",
       "      <td>10.0</td>\n",
       "      <td>17.701814</td>\n",
       "      <td>27.351609</td>\n",
       "    </tr>\n",
       "    <tr>\n",
       "      <th>4</th>\n",
       "      <td>1168798</td>\n",
       "      <td>0.333333</td>\n",
       "      <td>1.183098</td>\n",
       "      <td>0.7</td>\n",
       "      <td>3.475571</td>\n",
       "      <td>3.313406</td>\n",
       "    </tr>\n",
       "  </tbody>\n",
       "</table>\n",
       "</div>"
      ],
      "text/plain": [
       "     index     t2/t1  inclination  mass_ratio  primary__surface_potential  \\\n",
       "0   300001  0.800000     1.556795        10.0                  110.000050   \n",
       "1   862041  0.222222     1.327042         0.7                    8.400832   \n",
       "2   225466  0.750000     1.228534         0.3                    3.073046   \n",
       "3   105000  1.000000     1.522997        10.0                   17.701814   \n",
       "4  1168798  0.333333     1.183098         0.7                    3.475571   \n",
       "\n",
       "   secondary__surface_potential  \n",
       "0                    996.500500  \n",
       "1                      5.278068  \n",
       "2                      3.119347  \n",
       "3                     27.351609  \n",
       "4                      3.313406  "
      ]
     },
     "execution_count": 20,
     "metadata": {},
     "output_type": "execute_result"
    }
   ],
   "source": [
    "# Uprava testovacej mnoziny na dataframe\n",
    "\n",
    "y_test = pd.DataFrame(y_test, columns=[\"t2/t1\", \"inclination\", \"mass_ratio\", \"primary__surface_potential\", \"secondary__surface_potential\"])\n",
    "y_test = y_test.reset_index()\n",
    "y_test.head()"
   ]
  },
  {
   "cell_type": "code",
   "execution_count": 13,
   "id": "b984b381-f4b3-4847-8496-dc28661385d1",
   "metadata": {
    "pycharm": {
     "name": "#%%\n"
    }
   },
   "outputs": [
    {
     "data": {
      "text/html": [
       "<style>#sk-container-id-1 {color: black;background-color: white;}#sk-container-id-1 pre{padding: 0;}#sk-container-id-1 div.sk-toggleable {background-color: white;}#sk-container-id-1 label.sk-toggleable__label {cursor: pointer;display: block;width: 100%;margin-bottom: 0;padding: 0.3em;box-sizing: border-box;text-align: center;}#sk-container-id-1 label.sk-toggleable__label-arrow:before {content: \"▸\";float: left;margin-right: 0.25em;color: #696969;}#sk-container-id-1 label.sk-toggleable__label-arrow:hover:before {color: black;}#sk-container-id-1 div.sk-estimator:hover label.sk-toggleable__label-arrow:before {color: black;}#sk-container-id-1 div.sk-toggleable__content {max-height: 0;max-width: 0;overflow: hidden;text-align: left;background-color: #f0f8ff;}#sk-container-id-1 div.sk-toggleable__content pre {margin: 0.2em;color: black;border-radius: 0.25em;background-color: #f0f8ff;}#sk-container-id-1 input.sk-toggleable__control:checked~div.sk-toggleable__content {max-height: 200px;max-width: 100%;overflow: auto;}#sk-container-id-1 input.sk-toggleable__control:checked~label.sk-toggleable__label-arrow:before {content: \"▾\";}#sk-container-id-1 div.sk-estimator input.sk-toggleable__control:checked~label.sk-toggleable__label {background-color: #d4ebff;}#sk-container-id-1 div.sk-label input.sk-toggleable__control:checked~label.sk-toggleable__label {background-color: #d4ebff;}#sk-container-id-1 input.sk-hidden--visually {border: 0;clip: rect(1px 1px 1px 1px);clip: rect(1px, 1px, 1px, 1px);height: 1px;margin: -1px;overflow: hidden;padding: 0;position: absolute;width: 1px;}#sk-container-id-1 div.sk-estimator {font-family: monospace;background-color: #f0f8ff;border: 1px dotted black;border-radius: 0.25em;box-sizing: border-box;margin-bottom: 0.5em;}#sk-container-id-1 div.sk-estimator:hover {background-color: #d4ebff;}#sk-container-id-1 div.sk-parallel-item::after {content: \"\";width: 100%;border-bottom: 1px solid gray;flex-grow: 1;}#sk-container-id-1 div.sk-label:hover label.sk-toggleable__label {background-color: #d4ebff;}#sk-container-id-1 div.sk-serial::before {content: \"\";position: absolute;border-left: 1px solid gray;box-sizing: border-box;top: 0;bottom: 0;left: 50%;z-index: 0;}#sk-container-id-1 div.sk-serial {display: flex;flex-direction: column;align-items: center;background-color: white;padding-right: 0.2em;padding-left: 0.2em;position: relative;}#sk-container-id-1 div.sk-item {position: relative;z-index: 1;}#sk-container-id-1 div.sk-parallel {display: flex;align-items: stretch;justify-content: center;background-color: white;position: relative;}#sk-container-id-1 div.sk-item::before, #sk-container-id-1 div.sk-parallel-item::before {content: \"\";position: absolute;border-left: 1px solid gray;box-sizing: border-box;top: 0;bottom: 0;left: 50%;z-index: -1;}#sk-container-id-1 div.sk-parallel-item {display: flex;flex-direction: column;z-index: 1;position: relative;background-color: white;}#sk-container-id-1 div.sk-parallel-item:first-child::after {align-self: flex-end;width: 50%;}#sk-container-id-1 div.sk-parallel-item:last-child::after {align-self: flex-start;width: 50%;}#sk-container-id-1 div.sk-parallel-item:only-child::after {width: 0;}#sk-container-id-1 div.sk-dashed-wrapped {border: 1px dashed gray;margin: 0 0.4em 0.5em 0.4em;box-sizing: border-box;padding-bottom: 0.4em;background-color: white;}#sk-container-id-1 div.sk-label label {font-family: monospace;font-weight: bold;display: inline-block;line-height: 1.2em;}#sk-container-id-1 div.sk-label-container {text-align: center;}#sk-container-id-1 div.sk-container {/* jupyter's `normalize.less` sets `[hidden] { display: none; }` but bootstrap.min.css set `[hidden] { display: none !important; }` so we also need the `!important` here to be able to override the default hidden behavior on the sphinx rendered scikit-learn.org. See: https://github.com/scikit-learn/scikit-learn/issues/21755 */display: inline-block !important;position: relative;}#sk-container-id-1 div.sk-text-repr-fallback {display: none;}</style><div id=\"sk-container-id-1\" class=\"sk-top-container\"><div class=\"sk-text-repr-fallback\"><pre>Pipeline(steps=[(&#x27;reg&#x27;, MultiOutputRegressor(estimator=SVR(C=5, gamma=4.0)))])</pre><b>In a Jupyter environment, please rerun this cell to show the HTML representation or trust the notebook. <br />On GitHub, the HTML representation is unable to render, please try loading this page with nbviewer.org.</b></div><div class=\"sk-container\" hidden><div class=\"sk-item sk-dashed-wrapped\"><div class=\"sk-label-container\"><div class=\"sk-label sk-toggleable\"><input class=\"sk-toggleable__control sk-hidden--visually\" id=\"sk-estimator-id-1\" type=\"checkbox\" ><label for=\"sk-estimator-id-1\" class=\"sk-toggleable__label sk-toggleable__label-arrow\">Pipeline</label><div class=\"sk-toggleable__content\"><pre>Pipeline(steps=[(&#x27;reg&#x27;, MultiOutputRegressor(estimator=SVR(C=5, gamma=4.0)))])</pre></div></div></div><div class=\"sk-serial\"><div class=\"sk-item sk-dashed-wrapped\"><div class=\"sk-label-container\"><div class=\"sk-label sk-toggleable\"><input class=\"sk-toggleable__control sk-hidden--visually\" id=\"sk-estimator-id-2\" type=\"checkbox\" ><label for=\"sk-estimator-id-2\" class=\"sk-toggleable__label sk-toggleable__label-arrow\">reg: MultiOutputRegressor</label><div class=\"sk-toggleable__content\"><pre>MultiOutputRegressor(estimator=SVR(C=5, gamma=4.0))</pre></div></div></div><div class=\"sk-parallel\"><div class=\"sk-parallel-item\"><div class=\"sk-item\"><div class=\"sk-label-container\"><div class=\"sk-label sk-toggleable\"><input class=\"sk-toggleable__control sk-hidden--visually\" id=\"sk-estimator-id-3\" type=\"checkbox\" ><label for=\"sk-estimator-id-3\" class=\"sk-toggleable__label sk-toggleable__label-arrow\">estimator: SVR</label><div class=\"sk-toggleable__content\"><pre>SVR(C=5, gamma=4.0)</pre></div></div></div><div class=\"sk-serial\"><div class=\"sk-item\"><div class=\"sk-estimator sk-toggleable\"><input class=\"sk-toggleable__control sk-hidden--visually\" id=\"sk-estimator-id-4\" type=\"checkbox\" ><label for=\"sk-estimator-id-4\" class=\"sk-toggleable__label sk-toggleable__label-arrow\">SVR</label><div class=\"sk-toggleable__content\"><pre>SVR(C=5, gamma=4.0)</pre></div></div></div></div></div></div></div></div></div></div></div></div>"
      ],
      "text/plain": [
       "Pipeline(steps=[('reg', MultiOutputRegressor(estimator=SVR(C=5, gamma=4.0)))])"
      ]
     },
     "execution_count": 13,
     "metadata": {},
     "output_type": "execute_result"
    }
   ],
   "source": [
    "# BLOK 5\n",
    "# Najdenie optimalnych hodnot hyper-parametrov pre model, vypis najlepsieho modelu\n",
    "\n",
    "pipe_svr = Pipeline([('reg', MultiOutputRegressor(SVR()))])\n",
    "grid_param_svr = {\n",
    "    \"reg__estimator__C\": range(3, 6),\n",
    "    \"reg__estimator__gamma\": [3.4, 3.6, 3.8, 4.0]\n",
    "}\n",
    "gs_svr = (GridSearchCV(estimator=pipe_svr, \n",
    "                      param_grid=grid_param_svr, \n",
    "                      ))\n",
    "gs_svr = gs_svr.fit(X_train,y_train)\n",
    "best_params = gs_svr.best_params_  \n",
    "gs_svr.best_estimator_  "
   ]
  },
  {
   "cell_type": "code",
   "execution_count": 21,
   "id": "a69d6a4f-502d-41b7-9ea2-d1c1a85851d5",
   "metadata": {
    "pycharm": {
     "name": "#%%\n"
    }
   },
   "outputs": [
    {
     "data": {
      "text/plain": [
       "{'C': 5,\n",
       " 'cache_size': 200,\n",
       " 'coef0': 0.0,\n",
       " 'degree': 3,\n",
       " 'epsilon': 0.05,\n",
       " 'gamma': 3.8,\n",
       " 'kernel': 'rbf',\n",
       " 'max_iter': -1,\n",
       " 'shrinking': True,\n",
       " 'tol': 0.001,\n",
       " 'verbose': False}"
      ]
     },
     "execution_count": 21,
     "metadata": {},
     "output_type": "execute_result"
    }
   ],
   "source": [
    "# BLOK 6\n",
    "# Vytvorenie architektury modelu. Spustenie trenovania na trenovacej mnozine. Vypis architektury modelu\n",
    "\n",
    "svr_model = SVR(kernel='rbf', cache_size=200, C=5, gamma=3.8, epsilon=0.05)\n",
    "regr_model = MultiOutputRegressor(svr_model)\n",
    "regr_model.fit(X_train, y_train)\n",
    "\n",
    "svr_model.get_params()"
   ]
  },
  {
   "cell_type": "code",
   "execution_count": 22,
   "id": "67b124d0-bf11-4cde-891d-3ea35a8e35f4",
   "metadata": {
    "pycharm": {
     "name": "#%%\n"
    }
   },
   "outputs": [
    {
     "data": {
      "text/html": [
       "<div>\n",
       "<style scoped>\n",
       "    .dataframe tbody tr th:only-of-type {\n",
       "        vertical-align: middle;\n",
       "    }\n",
       "\n",
       "    .dataframe tbody tr th {\n",
       "        vertical-align: top;\n",
       "    }\n",
       "\n",
       "    .dataframe thead th {\n",
       "        text-align: right;\n",
       "    }\n",
       "</style>\n",
       "<table border=\"1\" class=\"dataframe\">\n",
       "  <thead>\n",
       "    <tr style=\"text-align: right;\">\n",
       "      <th></th>\n",
       "      <th>T2/T1</th>\n",
       "      <th>Inc</th>\n",
       "      <th>mass_ratio</th>\n",
       "      <th>PSP</th>\n",
       "      <th>SSP</th>\n",
       "    </tr>\n",
       "  </thead>\n",
       "  <tbody>\n",
       "    <tr>\n",
       "      <th>0</th>\n",
       "      <td>0.611525</td>\n",
       "      <td>1.530339</td>\n",
       "      <td>1.245752</td>\n",
       "      <td>22.461194</td>\n",
       "      <td>27.117091</td>\n",
       "    </tr>\n",
       "    <tr>\n",
       "      <th>1</th>\n",
       "      <td>0.311634</td>\n",
       "      <td>1.343245</td>\n",
       "      <td>2.221697</td>\n",
       "      <td>8.881535</td>\n",
       "      <td>9.588908</td>\n",
       "    </tr>\n",
       "    <tr>\n",
       "      <th>2</th>\n",
       "      <td>0.865132</td>\n",
       "      <td>1.243845</td>\n",
       "      <td>1.002594</td>\n",
       "      <td>4.932487</td>\n",
       "      <td>5.332868</td>\n",
       "    </tr>\n",
       "    <tr>\n",
       "      <th>3</th>\n",
       "      <td>0.805127</td>\n",
       "      <td>1.313880</td>\n",
       "      <td>1.614730</td>\n",
       "      <td>6.776146</td>\n",
       "      <td>5.476783</td>\n",
       "    </tr>\n",
       "    <tr>\n",
       "      <th>4</th>\n",
       "      <td>0.287644</td>\n",
       "      <td>1.321247</td>\n",
       "      <td>1.027968</td>\n",
       "      <td>5.797593</td>\n",
       "      <td>5.270260</td>\n",
       "    </tr>\n",
       "  </tbody>\n",
       "</table>\n",
       "</div>"
      ],
      "text/plain": [
       "      T2/T1       Inc  mass_ratio        PSP        SSP\n",
       "0  0.611525  1.530339    1.245752  22.461194  27.117091\n",
       "1  0.311634  1.343245    2.221697   8.881535   9.588908\n",
       "2  0.865132  1.243845    1.002594   4.932487   5.332868\n",
       "3  0.805127  1.313880    1.614730   6.776146   5.476783\n",
       "4  0.287644  1.321247    1.027968   5.797593   5.270260"
      ]
     },
     "execution_count": 22,
     "metadata": {},
     "output_type": "execute_result"
    }
   ],
   "source": [
    "# BLOK 7\n",
    "# Predikcia a vytvorenie dataframu z predikovanych hodnot\n",
    "\n",
    "y_pred = regr_model.predict(X_test)\n",
    "\n",
    "df_y_pred = pd.DataFrame(y_pred, columns=[\"T2/T1\", \"Inc\", \"mass_ratio\", \"PSP\", \"SSP\"])\n",
    "df_y_pred.head()"
   ]
  },
  {
   "cell_type": "code",
   "execution_count": 23,
   "id": "f6e95e75-9b77-40dc-88d7-518e6e85ea46",
   "metadata": {
    "pycharm": {
     "name": "#%%\n"
    }
   },
   "outputs": [
    {
     "name": "stdout",
     "output_type": "stream",
     "text": [
      "MSE T2/T1: 0.02567271040511119 MAE T2/T1: 0.1258568555671594 MAPE T2/T1: 32.04557146750492%\n",
      "MSE INC: 0.015480920578780288 MAE INC: 0.09041495431531629 MAPE INC: 6.979264668516863%\n",
      "MSE MASS: 6.1763167427517685 MAE MASS: 1.4879528097667345 MAPE MASS: 122.15526820638583%\n",
      "MSE PSP: 790.517197033381 MAE PSP: 12.154156348762417 MAPE PSP: 48.00999822759513%\n",
      "MSE SSP: 12697.58801807669 MAE SSP: 23.577828426305103 MAPE SSP: 64.92672210673305%\n"
     ]
    }
   ],
   "source": [
    "# BLOK 8\n",
    "# Chybovost pri predikcii pre kazdy parameter zvlast na testovacich krivkach\n",
    "\n",
    "mse_t = mean_squared_error(y_test[\"t2/t1\"], df_y_pred['T2/T1'])\n",
    "mape_t = mean_absolute_percentage_error(y_test[\"t2/t1\"], df_y_pred['T2/T1'])\n",
    "mae_t = mean_absolute_error(y_test[\"t2/t1\"], df_y_pred['T2/T1'])\n",
    "\n",
    "mse_inc = mean_squared_error(y_test[\"inclination\"], df_y_pred['Inc'])\n",
    "mape_inc = mean_absolute_percentage_error(y_test[\"inclination\"], df_y_pred['Inc'])\n",
    "mae_inc = mean_absolute_error(y_test[\"inclination\"], df_y_pred['Inc'])\n",
    "\n",
    "mse_mass = mean_squared_error(y_test[\"mass_ratio\"], df_y_pred['mass_ratio'])\n",
    "mape_mass = mean_absolute_percentage_error(y_test[\"mass_ratio\"], df_y_pred['mass_ratio'])\n",
    "mae_mass = mean_absolute_error(y_test[\"mass_ratio\"], df_y_pred['mass_ratio'])\n",
    "\n",
    "mse_psp = mean_squared_error(y_test[\"primary__surface_potential\"], df_y_pred['PSP'])\n",
    "mape_psp = mean_absolute_percentage_error(y_test[\"primary__surface_potential\"], df_y_pred['PSP'])\n",
    "mae_psp = mean_absolute_error(y_test[\"primary__surface_potential\"], df_y_pred['PSP'])\n",
    "\n",
    "mse_ssp = mean_squared_error(y_test[\"secondary__surface_potential\"], df_y_pred['SSP'])\n",
    "mape_ssp = mean_absolute_percentage_error(y_test[\"secondary__surface_potential\"], df_y_pred['SSP'])\n",
    "mae_ssp = mean_absolute_error(y_test[\"secondary__surface_potential\"], df_y_pred['SSP'])\n",
    "\n",
    "print(\"MSE T2/T1: \" + str(mse_t) + \" MAE T2/T1: \" + str(mae_t) + \" MAPE T2/T1: \" + str(mape_t * 100) + \"%\")\n",
    "print(\"MSE INC: \" + str(mse_inc) + \" MAE INC: \" + str(mae_inc) + \" MAPE INC: \" + str(mape_inc * 100) + \"%\")\n",
    "print(\"MSE MASS: \" + str(mse_mass) + \" MAE MASS: \" + str(mae_mass) + \" MAPE MASS: \" + str(mape_mass * 100) + \"%\")\n",
    "print(\"MSE PSP: \" + str(mse_psp) + \" MAE PSP: \" + str(mae_psp) + \" MAPE PSP: \" + str(mape_psp * 100) + \"%\")\n",
    "print(\"MSE SSP: \" + str(mse_ssp) + \" MAE SSP: \" + str(mae_ssp) + \" MAPE SSP: \" + str(mape_ssp * 100) + \"%\")"
   ]
  },
  {
   "cell_type": "code",
   "execution_count": 21,
   "id": "39c71bbb-2ba0-41d6-8dc9-697acfb8df90",
   "metadata": {
    "pycharm": {
     "name": "#%%\n"
    }
   },
   "outputs": [],
   "source": [
    "# BLOK 9\n",
    "# ulozenie modelu\n",
    "\n",
    "os.makedirs(os.path.dirname(\"models/svr_detached_model.pkl\"), exist_ok=True)\n",
    "pickle.dump(regr_model, open(\"models/svr_detached_model.pkl\", 'wb'))"
   ]
  }
 ],
 "metadata": {
  "kernelspec": {
   "display_name": "Python 3 (ipykernel)",
   "language": "python",
   "name": "python3"
  },
  "language_info": {
   "codemirror_mode": {
    "name": "ipython",
    "version": 3
   },
   "file_extension": ".py",
   "mimetype": "text/x-python",
   "name": "python",
   "nbconvert_exporter": "python",
   "pygments_lexer": "ipython3",
   "version": "3.10.6"
  }
 },
 "nbformat": 4,
 "nbformat_minor": 5
}